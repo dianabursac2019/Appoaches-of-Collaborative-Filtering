{
 "cells": [
  {
   "cell_type": "code",
   "execution_count": 1,
   "metadata": {},
   "outputs": [],
   "source": [
    "import pandas as pd\n",
    "from sklearn.utils import shuffle\n",
    "from collections import defaultdict\n",
    "from collections import Counter\n",
    "import numpy as np\n",
    "import random"
   ]
  },
  {
   "cell_type": "code",
   "execution_count": 2,
   "metadata": {},
   "outputs": [],
   "source": [
    "music_small= pd.read_csv('music_small.csv')"
   ]
  },
  {
   "cell_type": "code",
   "execution_count": 3,
   "metadata": {},
   "outputs": [],
   "source": [
    "music_small.drop(columns=['Unnamed: 0','Unnamed: 0.1'], inplace = True)"
   ]
  },
  {
   "cell_type": "code",
   "execution_count": 4,
   "metadata": {},
   "outputs": [],
   "source": [
    "def collect_data(music_small):\n",
    "    user_songs = defaultdict(list)\n",
    "    song_users = defaultdict(list)\n",
    "    user_song_ratings = {}\n",
    "    users_ids = [uid for uid in music_small.user_ids]\n",
    "    songs_ids = [sid for sid in music_small.songs_ids]\n",
    "    ratings = [r for r in music_small.rating]\n",
    "    for uid, sid, r in zip(users_ids, songs_ids, ratings):\n",
    "        user_songs[uid].append(sid)\n",
    "        song_users[sid].append(uid)\n",
    "        user_song_ratings[(uid,sid)] = r\n",
    "    return user_songs, song_users, user_song_ratings"
   ]
  },
  {
   "cell_type": "code",
   "execution_count": 5,
   "metadata": {},
   "outputs": [],
   "source": [
    "user_songs, song_users, user_song_ratings = collect_data(music_small)"
   ]
  },
  {
   "cell_type": "code",
   "execution_count": 6,
   "metadata": {},
   "outputs": [],
   "source": [
    "def difference(lst1, lst2): \n",
    "    lst3 = [value for value in lst1 if value not in lst2] \n",
    "    return lst3"
   ]
  },
  {
   "cell_type": "code",
   "execution_count": 7,
   "metadata": {},
   "outputs": [],
   "source": [
    "def select_train_test_u_s(user_songs, user_song_ratings):\n",
    "    random.seed(30)\n",
    "    user_songs_train = {}\n",
    "    user_songs_test = {}\n",
    "    ratings_train = {}\n",
    "    ratings_test = {}\n",
    "    num_to_select = 0.2\n",
    "    for uid in music_small.user_ids.unique():\n",
    "        list_test= random.sample(user_songs[uid], round(len(user_songs[uid])*num_to_select))\n",
    "        list_train = difference(user_songs[uid],list_test)\n",
    "        user_songs_train[uid] = list_train\n",
    "        user_songs_test[uid] = list_test\n",
    "        for s in list_train:\n",
    "            ratings_train[(uid,s)] = user_song_ratings[(uid,s)]\n",
    "        for sT in list_test:\n",
    "            ratings_test[(uid,sT)] = user_song_ratings[(uid,sT)]\n",
    "    return user_songs_train, user_songs_test, ratings_train, ratings_test        "
   ]
  },
  {
   "cell_type": "code",
   "execution_count": 8,
   "metadata": {},
   "outputs": [],
   "source": [
    "user_songs_train, user_songs_test, ratings_train,ratings_test  = select_train_test_u_s(user_songs, user_song_ratings)"
   ]
  },
  {
   "cell_type": "code",
   "execution_count": 9,
   "metadata": {},
   "outputs": [],
   "source": [
    "# picke can write and load any kind of python objects, dict keys do not ahve to be strings\n",
    "\n",
    "import pickle\n",
    "with open('song_users_all.json', 'wb') as f:\n",
    "    pickle.dump(song_users, f)\n",
    "    \n",
    "with open('user_songs_train.json', 'wb') as f:\n",
    "    pickle.dump(user_songs_train, f)\n",
    "    \n",
    "with open('user_songs_test.json', 'wb') as f:\n",
    "    pickle.dump(user_songs_test, f)\n",
    "    \n",
    "with open('ratings_test.json', 'wb') as f:\n",
    "    pickle.dump(ratings_test, f)\n",
    "    \n",
    "with open('ratings_train.json', 'wb') as f:\n",
    "    pickle.dump(ratings_train, f)\n",
    "    \n",
    "with open('user_song_ratings.json', 'wb') as f:\n",
    "    pickle.dump(user_song_ratings, f)\n"
   ]
  },
  {
   "cell_type": "code",
   "execution_count": 10,
   "metadata": {},
   "outputs": [],
   "source": [
    "def select_train_test_s_u(song_users, user_song_ratings):\n",
    "    random.seed(30)\n",
    "    song_users_train = {}\n",
    "    song_users_test = {}\n",
    "    ratings_train = {}\n",
    "    ratings_test = {}\n",
    "    num_to_select = 0.2\n",
    "    for sid in music_small.songs_ids.unique():\n",
    "        list_test= random.sample(song_users[sid], round(len(song_users[sid])*num_to_select))\n",
    "        list_train = difference(song_users[sid],list_test)\n",
    "        song_users_train[sid] = list_train\n",
    "        song_users_test[sid] = list_test\n",
    "        for u in list_train:\n",
    "            ratings_train[(u,sid)] = user_song_ratings[(u,sid)]\n",
    "        for uT in list_test:\n",
    "            ratings_test[(uT,sid)] = user_song_ratings[(uT,sid)]\n",
    "    return song_users_train, song_users_test, ratings_train, ratings_test"
   ]
  },
  {
   "cell_type": "code",
   "execution_count": 11,
   "metadata": {},
   "outputs": [],
   "source": [
    "song_users_train, song_users_test, ratings_train_s, ratings_test_s = select_train_test_s_u(song_users, user_song_ratings)"
   ]
  },
  {
   "cell_type": "code",
   "execution_count": 12,
   "metadata": {},
   "outputs": [],
   "source": [
    "# picke can write and load any kind of python objects, dict keys do not have to be strings\n",
    "\n",
    "import pickle\n",
    "with open('user_songs_all.json', 'wb') as f:\n",
    "    pickle.dump(user_songs, f)\n",
    "    \n",
    "with open('song_users_train.json', 'wb') as f:\n",
    "    pickle.dump(song_users_train, f)\n",
    "    \n",
    "with open('song_users_test.json', 'wb') as f:\n",
    "    pickle.dump(song_users_test, f)\n",
    "    \n",
    "with open('ratings_test_s.json', 'wb') as f:\n",
    "    pickle.dump(ratings_test_s, f)\n",
    "    \n",
    "with open('ratings_train_s.json', 'wb') as f:\n",
    "    pickle.dump(ratings_train_s, f)\n",
    "    \n",
    "with open('user_song_ratings.json', 'wb') as f:\n",
    "    pickle.dump(user_song_ratings, f)\n"
   ]
  },
  {
   "cell_type": "code",
   "execution_count": null,
   "metadata": {},
   "outputs": [],
   "source": []
  }
 ],
 "metadata": {
  "kernelspec": {
   "display_name": "Python 3",
   "language": "python",
   "name": "python3"
  },
  "language_info": {
   "codemirror_mode": {
    "name": "ipython",
    "version": 3
   },
   "file_extension": ".py",
   "mimetype": "text/x-python",
   "name": "python",
   "nbconvert_exporter": "python",
   "pygments_lexer": "ipython3",
   "version": "3.6.7"
  }
 },
 "nbformat": 4,
 "nbformat_minor": 2
}
