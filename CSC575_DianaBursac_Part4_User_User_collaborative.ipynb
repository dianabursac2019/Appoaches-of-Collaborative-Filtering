{
 "cells": [
  {
   "cell_type": "code",
   "execution_count": 1,
   "metadata": {},
   "outputs": [],
   "source": [
    "import pickle\n",
    "import pandas as pd\n",
    "from collections import defaultdict\n",
    "import numpy as np\n",
    "import datetime"
   ]
  },
  {
   "cell_type": "code",
   "execution_count": 2,
   "metadata": {},
   "outputs": [],
   "source": [
    "# Load Data\n",
    "with open('song_users_all.json','rb') as f:\n",
    "    song_users = pickle.load(f)\n",
    "with open('user_songs_train.json','rb') as f:\n",
    "    user_songs_train = pickle.load(f)\n",
    "with open('user_songs_test.json','rb') as f:\n",
    "    user_songs_test = pickle.load(f)\n",
    "with open('ratings_train.json','rb') as f:\n",
    "    ratings_train = pickle.load(f)\n",
    "with open('ratings_test.json','rb') as f:\n",
    "    ratings_test = pickle.load(f)\n",
    "with open('user_song_ratings.json','rb') as f:\n",
    "    ratings_all = pickle.load(f)\n"
   ]
  },
  {
   "cell_type": "code",
   "execution_count": 3,
   "metadata": {},
   "outputs": [
    {
     "data": {
      "text/plain": [
       "[0,\n",
       " 280,\n",
       " 511,\n",
       " 992,\n",
       " 993,\n",
       " 1192,\n",
       " 1289,\n",
       " 1331,\n",
       " 1579,\n",
       " 1590,\n",
       " 1599,\n",
       " 1600,\n",
       " 1677,\n",
       " 1689,\n",
       " 1918,\n",
       " 1976,\n",
       " 2155,\n",
       " 2248,\n",
       " 2396,\n",
       " 2419]"
      ]
     },
     "execution_count": 3,
     "metadata": {},
     "output_type": "execute_result"
    }
   ],
   "source": [
    "user_songs_train[7]"
   ]
  },
  {
   "cell_type": "code",
   "execution_count": 4,
   "metadata": {},
   "outputs": [
    {
     "data": {
      "text/plain": [
       "[1787, 1397, 2136, 2388, 2261]"
      ]
     },
     "execution_count": 4,
     "metadata": {},
     "output_type": "execute_result"
    }
   ],
   "source": [
    "user_songs_test[7]"
   ]
  },
  {
   "cell_type": "code",
   "execution_count": 5,
   "metadata": {},
   "outputs": [],
   "source": [
    "#ratings_train[(7,469)]"
   ]
  },
  {
   "cell_type": "code",
   "execution_count": 6,
   "metadata": {},
   "outputs": [],
   "source": [
    "# PAREMETERS K, limit"
   ]
  },
  {
   "cell_type": "code",
   "execution_count": 7,
   "metadata": {},
   "outputs": [],
   "source": [
    "# USER-to-user collabortaive filtering : choose the items for the user because \n",
    "# those items have been liked by similar users\n",
    "# Item-to-item collaborative filtering: choose the items for a user, because the user \n",
    "# has liked similar items in the past\n",
    "# to choose the user to recommened to item j, I can look at other item j' \n",
    "# who liked the same users as item j\n",
    "# if items j and j' are similar \n",
    "# given a user, calculate scores for each item O(N^2M)\n",
    "# there are M^2 item-item weights and each vector is N length"
   ]
  },
  {
   "cell_type": "code",
   "execution_count": 8,
   "metadata": {},
   "outputs": [],
   "source": [
    "def ub_cf(limit):\n",
    "    '''number of songs two users have in common. This function finds the first 30 neighboors'''\n",
    "    K=30\n",
    "    averages = {} # each user average use\n",
    "    deviations = defaultdict(list)\n",
    "    neighboors = defaultdict(list)\n",
    "    # for every user (i)\n",
    "    # we collect ratings for each song rated by user i\n",
    "    # we find an average rating for all songs per user i\n",
    "    # we find a rating deviation per each song  for user i\n",
    "    # if correlation btw two users is large, they like/dislike the same song \n",
    "    # SIM(Ui, Uj) is correlation between those users\n",
    "    \n",
    "    for i in user_songs_train.keys():\n",
    "        songs_i = user_songs_train[i]\n",
    "        songs_i_set = set(songs_i)\n",
    "        ratings_i = {s: ratings_all[(i, s)] for s in songs_i}\n",
    "        avg_i = np.mean(list(ratings_i.values()))\n",
    "        dev_i = {s:(r - avg_i) for s, r in ratings_i.items()}\n",
    "        dev_i_values = np.array(list(dev_i.values()))\n",
    "        sigma_i = np.sqrt(np.dot(dev_i_values, dev_i_values))\n",
    "        averages[i] = avg_i\n",
    "        deviations[i].append(dev_i)\n",
    "        sl = []\n",
    "        for j in user_songs_train.keys():\n",
    "            if j!=i:\n",
    "                songs_j = user_songs_train[j]\n",
    "                songs_j_set = set(songs_j)\n",
    "                common_songs = (songs_j_set)&(songs_i_set)\n",
    "                if len(common_songs)>= limit:\n",
    "                    ratings_j = {s:ratings_all[(j,s)] for s in songs_j}\n",
    "                    avg_j = np.mean(list(ratings_j.values()))\n",
    "                    dev_j = {s:(r - avg_j) for s, r in ratings_j.items()}\n",
    "                    dev_j_values = np.array(list(dev_j.values()))\n",
    "                    sigma_j = np.sqrt(np.dot(dev_j_values, dev_j_values))\n",
    "                    # correlation coefficiant\n",
    "                    num = sum(dev_i[s]*dev_j[s] for s in common_songs)\n",
    "                    wij = num / (sigma_i*sigma_j+0.000001)\n",
    "                    #if wij < 0: wij = 0\n",
    "                    sl.append((wij,j))\n",
    "            else:\n",
    "                continue\n",
    "        sl.sort(reverse = True)\n",
    "        neighboors[i].append(sl[0:K])\n",
    "    return neighboors,deviations,averages"
   ]
  },
  {
   "cell_type": "code",
   "execution_count": 9,
   "metadata": {},
   "outputs": [
    {
     "name": "stdout",
     "output_type": "stream",
     "text": [
      "Time to find the neighboors where limit =3: 0:00:02.454627\n"
     ]
    }
   ],
   "source": [
    "# LIMIT >= 3\n",
    "\n",
    "t0 = datetime.datetime.now()\n",
    "neighboors, deviations, averages = ub_cf(limit=3)\n",
    "delta_limit4 = datetime.datetime.now()-t0\n",
    "print(\"Time to find the neighboors where limit =3:\", delta_limit4)"
   ]
  },
  {
   "cell_type": "code",
   "execution_count": 10,
   "metadata": {},
   "outputs": [
    {
     "name": "stdout",
     "output_type": "stream",
     "text": [
      "Time to find the neighboors where limit =1: 0:00:16.134682\n"
     ]
    }
   ],
   "source": [
    "# LIMIT >= 1\n",
    "\n",
    "t0 = datetime.datetime.now()\n",
    "neighboors1, deviations1, averages1 = ub_cf(limit=1)\n",
    "delta_limit0 = datetime.datetime.now()-t0\n",
    "print(\"Time to find the neighboors where limit =1:\", delta_limit0)"
   ]
  },
  {
   "cell_type": "code",
   "execution_count": 11,
   "metadata": {},
   "outputs": [
    {
     "data": {
      "text/plain": [
       "[(0.15988550306060323, 561),\n",
       " (0.0680413632254637, 892),\n",
       " (0.023669050148584177, 8),\n",
       " (0.020942686642658553, 541),\n",
       " (0.0, 324),\n",
       " (0.0, 0),\n",
       " (-0.08570100650050827, 38)]"
      ]
     },
     "execution_count": 11,
     "metadata": {},
     "output_type": "execute_result"
    }
   ],
   "source": [
    "# no.of common songs >= 3, UserID = 7, K =15\n",
    "neighboors[7][0][0:15]"
   ]
  },
  {
   "cell_type": "code",
   "execution_count": 12,
   "metadata": {},
   "outputs": [
    {
     "data": {
      "text/plain": [
       "[(0.15988550306060323, 561),\n",
       " (0.11785108853110586, 810),\n",
       " (0.1163386124736487, 195),\n",
       " (0.06903822147115152, 100),\n",
       " (0.0680413632254637, 892),\n",
       " (0.06517948093566686, 2),\n",
       " (0.06384422893734279, 732),\n",
       " (0.06347958193912161, 190),\n",
       " (0.043033137180085355, 827),\n",
       " (0.027524085794828183, 5),\n",
       " (0.023669050148584177, 8),\n",
       " (0.020942686642658553, 541),\n",
       " (0.005336690756606877, 37),\n",
       " (0.0, 948),\n",
       " (0.0, 945)]"
      ]
     },
     "execution_count": 12,
     "metadata": {},
     "output_type": "execute_result"
    }
   ],
   "source": [
    "# no.of common songs >= 1, UserID = 7, K =15\n",
    "neighboors1[7][0][0:15]"
   ]
  },
  {
   "cell_type": "code",
   "execution_count": 13,
   "metadata": {},
   "outputs": [
    {
     "data": {
      "text/plain": [
       "[{0: 1.0,\n",
       "  280: 0.0,\n",
       "  511: -1.0,\n",
       "  992: 1.0,\n",
       "  993: 0.0,\n",
       "  1192: -1.0,\n",
       "  1289: 0.0,\n",
       "  1331: 0.0,\n",
       "  1579: 0.0,\n",
       "  1590: 0.0,\n",
       "  1599: 0.0,\n",
       "  1600: 1.0,\n",
       "  1677: 0.0,\n",
       "  1689: 0.0,\n",
       "  1918: 0.0,\n",
       "  1976: 0.0,\n",
       "  2155: 0.0,\n",
       "  2248: 0.0,\n",
       "  2396: -1.0,\n",
       "  2419: 0.0}]"
      ]
     },
     "execution_count": 13,
     "metadata": {},
     "output_type": "execute_result"
    }
   ],
   "source": [
    "deviations[7]"
   ]
  },
  {
   "cell_type": "code",
   "execution_count": 14,
   "metadata": {},
   "outputs": [
    {
     "data": {
      "text/plain": [
       "4.0"
      ]
     },
     "execution_count": 14,
     "metadata": {},
     "output_type": "execute_result"
    }
   ],
   "source": [
    "averages[7]"
   ]
  },
  {
   "cell_type": "code",
   "execution_count": 15,
   "metadata": {},
   "outputs": [],
   "source": [
    "# predict function that takes in user 'i' and song 's'\n",
    "# we use the ratings of the nearest neighboors j to predict the rating of user i\n",
    "\n",
    "class predict_error(object):\n",
    "    def __init__(self,k,neighboors,deviations,averages):\n",
    "        self.k = k\n",
    "        self.neighboors = neighboors\n",
    "        self.deviations = deviations\n",
    "        self.averages = averages\n",
    "        \n",
    "        \n",
    "    def predict(self,i,s):\n",
    "        numerator = 0\n",
    "        denominator = 0\n",
    "        for wij,j in self.neighboors[i][0][0:self.k]:\n",
    "            try: \n",
    "                dev = self.deviations[j][0].get(s,0)\n",
    "                numerator+=wij*dev\n",
    "                denominator+=abs(wij)\n",
    "            except KeyError:\n",
    "                pass\n",
    "        if denominator == 0:\n",
    "            prediction = self.averages[i]\n",
    "        elif denominator == 0 and numerator ==0:\n",
    "            prediction = self.averages[i]\n",
    "        else:\n",
    "            prediction = self.averages[i]+numerator/denominator\n",
    "        prediction = min(5, prediction)\n",
    "        prediction = max(0.5, prediction)\n",
    "        return prediction\n",
    "\n",
    "    def mse(self, p,t):\n",
    "        p = np.array(p)\n",
    "        t = np.array(t)\n",
    "        return np.mean((p-t)**2)\n",
    "    \n",
    "    def mae(self, p,t):\n",
    "        p = np.array(p)\n",
    "        t = np.array(t)\n",
    "        return np.mean(abs(p-t))\n",
    "\n",
    "    def train_error(self):\n",
    "        train_predictions, train_targets = [], []\n",
    "        for (i,s),r in ratings_train.items():\n",
    "            predict_rating= self.predict(i,s)\n",
    "            train_targets.append(r)\n",
    "            train_predictions.append(predict_rating)\n",
    "        mse_train = self.mse(train_predictions, train_targets)\n",
    "        return mse_train\n",
    "    \n",
    "    def test_error(self):\n",
    "        test_predictions, test_targets = [], []\n",
    "        for (i,s),r in ratings_test.items():\n",
    "            predict_rating_T= self.predict(i,s)\n",
    "            test_targets.append(r)\n",
    "            test_predictions.append(predict_rating_T)\n",
    "        mse_test = self.mse(test_predictions, test_targets)\n",
    "        return mse_test"
   ]
  },
  {
   "cell_type": "code",
   "execution_count": 16,
   "metadata": {},
   "outputs": [
    {
     "name": "stdout",
     "output_type": "stream",
     "text": [
      "Time to predict where limit >=3 K=1: 0:00:00.145206\n"
     ]
    }
   ],
   "source": [
    "#LIMIT >= 3, K = 1\n",
    "t0 = datetime.datetime.now()\n",
    "class_predict_k1= predict_error(1,neighboors,deviations,averages)\n",
    "mae1 = class_predict_k1.train_error()\n",
    "mae_1_test = class_predict_k1.test_error()\n",
    "delta0_limit5 = datetime.datetime.now()-t0\n",
    "print(\"Time to predict where limit >=3 K=1:\", delta0_limit5)"
   ]
  },
  {
   "cell_type": "code",
   "execution_count": 17,
   "metadata": {},
   "outputs": [
    {
     "data": {
      "text/plain": [
       "(0.24746174307292565, 0.286541111124117)"
      ]
     },
     "execution_count": 17,
     "metadata": {},
     "output_type": "execute_result"
    }
   ],
   "source": [
    "mae1, mae_1_test"
   ]
  },
  {
   "cell_type": "code",
   "execution_count": 18,
   "metadata": {},
   "outputs": [
    {
     "name": "stdout",
     "output_type": "stream",
     "text": [
      "Time to predict where limit >=3 K=3: 0:00:00.179000\n"
     ]
    }
   ],
   "source": [
    "#LIMIT >= 3, K = 3\n",
    "t0 = datetime.datetime.now()\n",
    "class_predict_k3= predict_error(3,neighboors,deviations,averages)\n",
    "mae3 = class_predict_k3.train_error()\n",
    "mae_3_test = class_predict_k3.test_error()\n",
    "delta0_limit3 = datetime.datetime.now()-t0\n",
    "print(\"Time to predict where limit >=3 K=3:\", delta0_limit3)"
   ]
  },
  {
   "cell_type": "code",
   "execution_count": 19,
   "metadata": {},
   "outputs": [
    {
     "data": {
      "text/plain": [
       "(0.23869742971853972, 0.2817716302074372)"
      ]
     },
     "execution_count": 19,
     "metadata": {},
     "output_type": "execute_result"
    }
   ],
   "source": [
    "mae3, mae_3_test"
   ]
  },
  {
   "cell_type": "code",
   "execution_count": 20,
   "metadata": {},
   "outputs": [
    {
     "name": "stdout",
     "output_type": "stream",
     "text": [
      "Time to predict where limit>=3 K=5: 0:00:00.180228\n"
     ]
    }
   ],
   "source": [
    "#LIMIT >= 3, K = 5\n",
    "t0 = datetime.datetime.now()\n",
    "class_predict_k5= predict_error(5, neighboors,deviations,averages)\n",
    "mae5 = class_predict_k5.train_error()\n",
    "mae_5_test = class_predict_k5.test_error()\n",
    "delta0_limit5 = datetime.datetime.now()-t0\n",
    "print(\"Time to predict where limit>=3 K=5:\", delta0_limit5)"
   ]
  },
  {
   "cell_type": "code",
   "execution_count": 21,
   "metadata": {},
   "outputs": [
    {
     "data": {
      "text/plain": [
       "(0.23688737184585204, 0.27983300899202523)"
      ]
     },
     "execution_count": 21,
     "metadata": {},
     "output_type": "execute_result"
    }
   ],
   "source": [
    "mae5, mae_5_test"
   ]
  },
  {
   "cell_type": "code",
   "execution_count": 22,
   "metadata": {},
   "outputs": [
    {
     "name": "stdout",
     "output_type": "stream",
     "text": [
      "Time to predict where limit>=3 K=7: 0:00:00.241939\n"
     ]
    }
   ],
   "source": [
    "#LIMIT >=3, K = 7\n",
    "t0 = datetime.datetime.now()\n",
    "class_predict_k7= predict_error(7, neighboors,deviations,averages)\n",
    "mae7 = class_predict_k7.train_error()\n",
    "mae_7_test = class_predict_k7.test_error()\n",
    "delta0_limit7 = datetime.datetime.now()-t0\n",
    "print(\"Time to predict where limit>=3 K=7:\", delta0_limit7)"
   ]
  },
  {
   "cell_type": "code",
   "execution_count": 23,
   "metadata": {},
   "outputs": [
    {
     "data": {
      "text/plain": [
       "(0.23628571409596374, 0.27977927137645064)"
      ]
     },
     "execution_count": 23,
     "metadata": {},
     "output_type": "execute_result"
    }
   ],
   "source": [
    "mae7, mae_7_test"
   ]
  },
  {
   "cell_type": "code",
   "execution_count": 24,
   "metadata": {},
   "outputs": [
    {
     "name": "stdout",
     "output_type": "stream",
     "text": [
      "Time to predict where limit >=3 K=10: 0:00:00.258338\n"
     ]
    }
   ],
   "source": [
    "#LIMIT >=3, K = 10\n",
    "t0 = datetime.datetime.now()\n",
    "class_predict_k10= predict_error(10, neighboors,deviations,averages)\n",
    "mae10 = class_predict_k10.train_error()\n",
    "mae_10_test = class_predict_k10.test_error()\n",
    "delta0_limit10 = datetime.datetime.now()-t0\n",
    "print(\"Time to predict where limit >=3 K=10:\", delta0_limit10)"
   ]
  },
  {
   "cell_type": "code",
   "execution_count": 25,
   "metadata": {},
   "outputs": [
    {
     "data": {
      "text/plain": [
       "(0.23505508938989111, 0.279790569782678)"
      ]
     },
     "execution_count": 25,
     "metadata": {},
     "output_type": "execute_result"
    }
   ],
   "source": [
    "mae10, mae_10_test"
   ]
  },
  {
   "cell_type": "code",
   "execution_count": 26,
   "metadata": {},
   "outputs": [
    {
     "name": "stdout",
     "output_type": "stream",
     "text": [
      "Time to predict where limit >=3 K=15: 0:00:00.284650\n"
     ]
    }
   ],
   "source": [
    "t0 = datetime.datetime.now()\n",
    "class_predict_k15= predict_error(15, neighboors,deviations,averages)\n",
    "mae15 = class_predict_k15.train_error()\n",
    "mae_15_test = class_predict_k15.test_error()\n",
    "delta0_limit15 = datetime.datetime.now()-t0\n",
    "print(\"Time to predict where limit >=3 K=15:\", delta0_limit15)"
   ]
  },
  {
   "cell_type": "code",
   "execution_count": 27,
   "metadata": {},
   "outputs": [
    {
     "data": {
      "text/plain": [
       "(0.23473115591315513, 0.2804617385973389)"
      ]
     },
     "execution_count": 27,
     "metadata": {},
     "output_type": "execute_result"
    }
   ],
   "source": [
    "mae15, mae_15_test"
   ]
  },
  {
   "cell_type": "code",
   "execution_count": 28,
   "metadata": {},
   "outputs": [
    {
     "name": "stdout",
     "output_type": "stream",
     "text": [
      "Time to predict where limit >=3 K=20: 0:00:00.328768\n"
     ]
    }
   ],
   "source": [
    "t0 = datetime.datetime.now()\n",
    "class_predict_k20= predict_error(20, neighboors,deviations,averages)\n",
    "mae20 = class_predict_k20.train_error()\n",
    "mae_20_test = class_predict_k20.test_error()\n",
    "delta0_limit20 = datetime.datetime.now()-t0\n",
    "print(\"Time to predict where limit >=3 K=20:\", delta0_limit20)"
   ]
  },
  {
   "cell_type": "code",
   "execution_count": 29,
   "metadata": {},
   "outputs": [
    {
     "data": {
      "text/plain": [
       "(0.23430416394494738, 0.28041657922126995)"
      ]
     },
     "execution_count": 29,
     "metadata": {},
     "output_type": "execute_result"
    }
   ],
   "source": [
    "mae20, mae_20_test"
   ]
  },
  {
   "cell_type": "code",
   "execution_count": null,
   "metadata": {},
   "outputs": [],
   "source": []
  },
  {
   "cell_type": "code",
   "execution_count": 30,
   "metadata": {},
   "outputs": [
    {
     "name": "stdout",
     "output_type": "stream",
     "text": [
      "Time to predict where limit =1 K=1: 0:00:00.163488\n"
     ]
    }
   ],
   "source": [
    "#LIMIT = 1, K = 1\n",
    "t0 = datetime.datetime.now()\n",
    "class_predict_k1_T= predict_error(1,neighboors1,deviations1,averages1)\n",
    "mae1_T = class_predict_k1_T.train_error()\n",
    "mae_1_test_T = class_predict_k1_T.test_error()\n",
    "delta1_limit1 = datetime.datetime.now()-t0\n",
    "print(\"Time to predict where limit =1 K=1:\", delta1_limit1)"
   ]
  },
  {
   "cell_type": "code",
   "execution_count": 31,
   "metadata": {},
   "outputs": [
    {
     "data": {
      "text/plain": [
       "(0.21922297924711695, 0.2784544149560049)"
      ]
     },
     "execution_count": 31,
     "metadata": {},
     "output_type": "execute_result"
    }
   ],
   "source": [
    "mae1_T, mae_1_test_T"
   ]
  },
  {
   "cell_type": "code",
   "execution_count": 32,
   "metadata": {},
   "outputs": [
    {
     "name": "stdout",
     "output_type": "stream",
     "text": [
      "Time to predict where limit =1 K=3: 0:00:00.263646\n"
     ]
    }
   ],
   "source": [
    "#LIMIT = 1, K = 3\n",
    "t0 = datetime.datetime.now()\n",
    "class_predict_k3_T= predict_error(3,neighboors1,deviations1,averages1)\n",
    "mae3_T = class_predict_k3_T.train_error()\n",
    "mae_3_test_T = class_predict_k3_T.test_error()\n",
    "delta1_limit3 = datetime.datetime.now()-t0\n",
    "print(\"Time to predict where limit =1 K=3:\", delta1_limit3)"
   ]
  },
  {
   "cell_type": "code",
   "execution_count": 33,
   "metadata": {},
   "outputs": [
    {
     "data": {
      "text/plain": [
       "(0.20161783911755748, 0.2752836693223226)"
      ]
     },
     "execution_count": 33,
     "metadata": {},
     "output_type": "execute_result"
    }
   ],
   "source": [
    "mae3_T, mae_3_test_T"
   ]
  },
  {
   "cell_type": "code",
   "execution_count": 34,
   "metadata": {},
   "outputs": [
    {
     "name": "stdout",
     "output_type": "stream",
     "text": [
      "Time to predict where limit =1 K=5: 0:00:00.339464\n"
     ]
    }
   ],
   "source": [
    "#LIMIT = 1, K = 5\n",
    "t0 = datetime.datetime.now()\n",
    "class_predict_k5_T= predict_error(5,neighboors1,deviations1,averages1)\n",
    "mae5_T = class_predict_k5_T.train_error()\n",
    "mae_5_test_T = class_predict_k5_T.test_error()\n",
    "delta1_limit5 = datetime.datetime.now()-t0\n",
    "print(\"Time to predict where limit =1 K=5:\", delta1_limit5)"
   ]
  },
  {
   "cell_type": "code",
   "execution_count": 35,
   "metadata": {},
   "outputs": [
    {
     "data": {
      "text/plain": [
       "(0.2013080267750688, 0.27479894633560076)"
      ]
     },
     "execution_count": 35,
     "metadata": {},
     "output_type": "execute_result"
    }
   ],
   "source": [
    "mae5_T, mae_5_test_T"
   ]
  },
  {
   "cell_type": "code",
   "execution_count": 36,
   "metadata": {},
   "outputs": [
    {
     "name": "stdout",
     "output_type": "stream",
     "text": [
      "Time to predict where limit =1 K=7: 0:00:00.307216\n"
     ]
    }
   ],
   "source": [
    "#LIMIT = 1, K = 5\n",
    "t0 = datetime.datetime.now()\n",
    "class_predict_k7_T= predict_error(7,neighboors1,deviations1,averages1)\n",
    "mae7_T = class_predict_k7_T.train_error()\n",
    "mae_7_test_T = class_predict_k7_T.test_error()\n",
    "delta1_limit7 = datetime.datetime.now()-t0\n",
    "print(\"Time to predict where limit =1 K=7:\", delta1_limit7)"
   ]
  },
  {
   "cell_type": "code",
   "execution_count": 37,
   "metadata": {},
   "outputs": [
    {
     "data": {
      "text/plain": [
       "(0.2018654269629229, 0.2745868723659427)"
      ]
     },
     "execution_count": 37,
     "metadata": {},
     "output_type": "execute_result"
    }
   ],
   "source": [
    "mae7_T, mae_7_test_T"
   ]
  },
  {
   "cell_type": "code",
   "execution_count": 38,
   "metadata": {},
   "outputs": [
    {
     "name": "stdout",
     "output_type": "stream",
     "text": [
      "Time to predict where limit =1 K=10: 0:00:00.386974\n"
     ]
    }
   ],
   "source": [
    "#LIMIT = 1, K = 10\n",
    "t0 = datetime.datetime.now()\n",
    "class_predict_k10_T= predict_error(10,neighboors1,deviations1,averages1)\n",
    "mae10_T = class_predict_k10_T.train_error()\n",
    "mae_10_test_T = class_predict_k10_T.test_error()\n",
    "delta1_limit10 = datetime.datetime.now()-t0\n",
    "print(\"Time to predict where limit =1 K=10:\", delta1_limit10)"
   ]
  },
  {
   "cell_type": "code",
   "execution_count": 39,
   "metadata": {},
   "outputs": [
    {
     "data": {
      "text/plain": [
       "(0.20294353537011325, 0.2746592811946117)"
      ]
     },
     "execution_count": 39,
     "metadata": {},
     "output_type": "execute_result"
    }
   ],
   "source": [
    "mae10_T, mae_10_test_T"
   ]
  },
  {
   "cell_type": "code",
   "execution_count": 40,
   "metadata": {},
   "outputs": [
    {
     "name": "stdout",
     "output_type": "stream",
     "text": [
      "Time to predict where limit =1 K=15: 0:00:00.472489\n"
     ]
    }
   ],
   "source": [
    "#LIMIT = 1, K = 15\n",
    "t0 = datetime.datetime.now()\n",
    "class_predict_k15_T= predict_error(15, neighboors1,deviations1,averages1)\n",
    "mae15_T = class_predict_k15_T.train_error()\n",
    "mae_15_test_T = class_predict_k15_T.test_error()\n",
    "delta1_limit15 = datetime.datetime.now()-t0\n",
    "print(\"Time to predict where limit =1 K=15:\", delta1_limit15)"
   ]
  },
  {
   "cell_type": "code",
   "execution_count": 41,
   "metadata": {},
   "outputs": [
    {
     "data": {
      "text/plain": [
       "(0.20440665952032203, 0.27470094644936405)"
      ]
     },
     "execution_count": 41,
     "metadata": {},
     "output_type": "execute_result"
    }
   ],
   "source": [
    "mae15_T, mae_15_test_T"
   ]
  },
  {
   "cell_type": "code",
   "execution_count": 42,
   "metadata": {},
   "outputs": [
    {
     "name": "stdout",
     "output_type": "stream",
     "text": [
      "Time to predict where limit =1 K=20: 0:00:00.574831\n"
     ]
    }
   ],
   "source": [
    "#LIMIT = 1, K = 20\n",
    "t0 = datetime.datetime.now()\n",
    "class_predict_k20_T= predict_error(20, neighboors1,deviations1,averages1)\n",
    "mae20_T = class_predict_k20_T.train_error()\n",
    "mae_20_test_T = class_predict_k20_T.test_error()\n",
    "delta1_limit20 = datetime.datetime.now()-t0\n",
    "print(\"Time to predict where limit =1 K=20:\", delta1_limit20)"
   ]
  },
  {
   "cell_type": "code",
   "execution_count": 43,
   "metadata": {},
   "outputs": [
    {
     "data": {
      "text/plain": [
       "(0.2055833616249027, 0.27442251854509103)"
      ]
     },
     "execution_count": 43,
     "metadata": {},
     "output_type": "execute_result"
    }
   ],
   "source": [
    "mae20_T, mae_20_test_T"
   ]
  },
  {
   "cell_type": "code",
   "execution_count": null,
   "metadata": {},
   "outputs": [],
   "source": []
  },
  {
   "cell_type": "code",
   "execution_count": 44,
   "metadata": {},
   "outputs": [
    {
     "data": {
      "image/png": "[encoded data removed]",
      "text/plain": [
       "<Figure size 432x288 with 1 Axes>"
      ]
     },
     "metadata": {
      "needs_background": "light"
     },
     "output_type": "display_data"
    }
   ],
   "source": [
    "lw =2\n",
    "import matplotlib.pyplot as plt\n",
    "%matplotlib inline\n",
    "K = [1,3,5,7,10,15,20]\n",
    "mae_limit5 = [mae1, mae3, mae5, mae7, mae10, mae15, mae20]\n",
    "mae_test_limit5 = [mae_1_test,mae_3_test, mae_5_test, mae_7_test, mae_10_test,mae_15_test,mae_20_test]\n",
    "mae_limit1 = [mae1_T, mae3_T, mae5_T, mae7_T, mae10_T, mae15_T, mae20_T]\n",
    "mae_test_limit1 = [mae_1_test_T,mae_3_test_T, mae_5_test_T, mae_7_test_T, mae_10_test_T,mae_15_test_T,mae_20_test_T]\n",
    "plt.plot(K, mae_limit5, color = 'b',lw=lw, label = \"MAE train no.common songs >= 3\")\n",
    "plt.plot(K, mae_test_limit5, color = 'r',lw=lw, label = \"MAE_test no.common songs >= 3\")\n",
    "plt.plot(K, mae_limit1, color = 'green',lw=lw, label = \"MAE train no.common songs >= 1\")\n",
    "plt.plot(K, mae_test_limit1, color = 'orange',lw=lw, label = \"MAE_test no.common songs >= 1\")\n",
    "plt.xlabel(\"K neighboors\")\n",
    "plt.ylabel(\"mae error\")\n",
    "plt.title('User-based MAE error across different K values')\n",
    "plt.legend(loc='upper center', bbox_to_anchor=(0.5, -0.2))\n",
    "plt.show()"
   ]
  },
  {
   "cell_type": "code",
   "execution_count": 45,
   "metadata": {},
   "outputs": [
    {
     "data": {
      "image/png": "[encoded data removed]",
      "text/plain": [
       "<Figure size 432x288 with 1 Axes>"
      ]
     },
     "metadata": {
      "needs_background": "light"
     },
     "output_type": "display_data"
    }
   ],
   "source": [
    "# plt.ylim(0.265,0.275) mae\n",
    "import matplotlib.pyplot as plt\n",
    "%matplotlib inline\n",
    "K = [1,3,5,7,10,15,20]\n",
    "mae_test_limit5 = [mae_1_test,mae_3_test, mae_5_test, mae_7_test, mae_10_test,mae_15_test,mae_20_test]\n",
    "mae_test_limit1 = [mae_1_test_T,mae_3_test_T, mae_5_test_T, mae_7_test_T, mae_10_test_T,mae_15_test_T,mae_20_test_T]\n",
    "plt.plot(K, mae_test_limit5, color = 'r', label = \"MAE_test no.common songs >= 3\")\n",
    "plt.plot(K, mae_test_limit1, color = 'orange', label='MAE_test no.common songs >= 1')\n",
    "plt.xlabel(\"K neighboors\")\n",
    "plt.ylabel(\"mae error\")\n",
    "plt.title('User-based MAE error across different K values on the test data set')\n",
    "plt.ylim(0.27,0.29)\n",
    "plt.legend(loc='upper center', bbox_to_anchor=(0.5, -0.2))\n",
    "plt.show()"
   ]
  },
  {
   "cell_type": "code",
   "execution_count": 46,
   "metadata": {},
   "outputs": [],
   "source": [
    "def commonS(k,neighboors):\n",
    "    x = {}\n",
    "    for i in user_songs_test.keys():\n",
    "        cj = 0\n",
    "        for w,j in neighboors[i][0][0:k]:\n",
    "            cj+=1\n",
    "        x[i] = cj\n",
    "    return x\n"
   ]
  },
  {
   "cell_type": "code",
   "execution_count": 47,
   "metadata": {},
   "outputs": [
    {
     "data": {
      "text/plain": [
       "Text(0.5, 1.0, 'User-based CF: No of neighboors across users:common songs >=1')"
      ]
     },
     "execution_count": 47,
     "metadata": {},
     "output_type": "execute_result"
    },
    {
     "data": {
      "image/png": "[encoded data removed]",
      "text/plain": [
       "<Figure size 432x288 with 1 Axes>"
      ]
     },
     "metadata": {
      "needs_background": "light"
     },
     "output_type": "display_data"
    }
   ],
   "source": [
    "x = commonS(30,neighboors1)\n",
    "plt.hist(x.values())\n",
    "plt.xlabel(\"K neighboors\")\n",
    "plt.ylabel(\"no of unique users\")\n",
    "plt.title('User-based CF: No of neighboors across users:common songs >=1')"
   ]
  },
  {
   "cell_type": "code",
   "execution_count": 48,
   "metadata": {},
   "outputs": [
    {
     "data": {
      "text/plain": [
       "Text(0.5, 1.0, 'User-based CF: No of neighboors across users:common songs >=3')"
      ]
     },
     "execution_count": 48,
     "metadata": {},
     "output_type": "execute_result"
    },
    {
     "data": {
      "image/png": "[encoded data removed]",
      "text/plain": [
       "<Figure size 432x288 with 1 Axes>"
      ]
     },
     "metadata": {
      "needs_background": "light"
     },
     "output_type": "display_data"
    }
   ],
   "source": [
    "x = commonS(30,neighboors)\n",
    "plt.hist(x.values())\n",
    "plt.hist(x.values())\n",
    "plt.xlabel(\"K neighboors\")\n",
    "plt.ylabel(\"no of unique users\")\n",
    "plt.title('User-based CF: No of neighboors across users:common songs >=3')"
   ]
  },
  {
   "cell_type": "code",
   "execution_count": null,
   "metadata": {},
   "outputs": [],
   "source": []
  }
 ],
 "metadata": {
  "kernelspec": {
   "display_name": "Python 3",
   "language": "python",
   "name": "python3"
  },
  "language_info": {
   "codemirror_mode": {
    "name": "ipython",
    "version": 3
   },
   "file_extension": ".py",
   "mimetype": "text/x-python",
   "name": "python",
   "nbconvert_exporter": "python",
   "pygments_lexer": "ipython3",
   "version": "3.6.7"
  }
 },
 "nbformat": 4,
 "nbformat_minor": 2
}
