{
 "cells": [
  {
   "cell_type": "markdown",
   "metadata": {},
   "source": [
    "### Pre-Processing_Part2"
   ]
  },
  {
   "cell_type": "code",
   "execution_count": 1,
   "metadata": {},
   "outputs": [],
   "source": [
    "# choose users who rated the most songs\n",
    "# choose songs that were rated by most users"
   ]
  },
  {
   "cell_type": "code",
   "execution_count": 2,
   "metadata": {},
   "outputs": [],
   "source": [
    "import pandas as pd\n",
    "from collections import Counter\n",
    "import matplotlib.pyplot as plt\n",
    "%matplotlib inline"
   ]
  },
  {
   "cell_type": "code",
   "execution_count": 3,
   "metadata": {},
   "outputs": [],
   "source": [
    "music = pd.read_csv('music_edit.csv')"
   ]
  },
  {
   "cell_type": "code",
   "execution_count": 4,
   "metadata": {},
   "outputs": [
    {
     "data": {
      "text/html": [
       "<div>\n",
       "<style scoped>\n",
       "    .dataframe tbody tr th:only-of-type {\n",
       "        vertical-align: middle;\n",
       "    }\n",
       "\n",
       "    .dataframe tbody tr th {\n",
       "        vertical-align: top;\n",
       "    }\n",
       "\n",
       "    .dataframe thead th {\n",
       "        text-align: right;\n",
       "    }\n",
       "</style>\n",
       "<table border=\"1\" class=\"dataframe\">\n",
       "  <thead>\n",
       "    <tr style=\"text-align: right;\">\n",
       "      <th></th>\n",
       "      <th>Unnamed: 0</th>\n",
       "      <th>rating</th>\n",
       "      <th>userID</th>\n",
       "      <th>songID</th>\n",
       "      <th>reviewText</th>\n",
       "      <th>summary</th>\n",
       "      <th>userID2</th>\n",
       "      <th>songID2</th>\n",
       "    </tr>\n",
       "  </thead>\n",
       "  <tbody>\n",
       "    <tr>\n",
       "      <td>0</td>\n",
       "      <td>0</td>\n",
       "      <td>5.0</td>\n",
       "      <td>A2TYZ821XXK2YZ</td>\n",
       "      <td>3426958910</td>\n",
       "      <td>This is awesome to listen to, A must-have for ...</td>\n",
       "      <td>Slayer Rules!</td>\n",
       "      <td>0</td>\n",
       "      <td>0</td>\n",
       "    </tr>\n",
       "    <tr>\n",
       "      <td>1</td>\n",
       "      <td>1</td>\n",
       "      <td>5.0</td>\n",
       "      <td>A3OFSREZADFUDY</td>\n",
       "      <td>3426958910</td>\n",
       "      <td>bien</td>\n",
       "      <td>Five Stars</td>\n",
       "      <td>1</td>\n",
       "      <td>0</td>\n",
       "    </tr>\n",
       "    <tr>\n",
       "      <td>2</td>\n",
       "      <td>2</td>\n",
       "      <td>5.0</td>\n",
       "      <td>A2VAMODP8M77NG</td>\n",
       "      <td>3426958910</td>\n",
       "      <td>It was great to hear the old stuff again and I...</td>\n",
       "      <td>SLAYER!!!!!!!!!!!!!!!!!!!!!</td>\n",
       "      <td>2</td>\n",
       "      <td>0</td>\n",
       "    </tr>\n",
       "    <tr>\n",
       "      <td>3</td>\n",
       "      <td>3</td>\n",
       "      <td>4.0</td>\n",
       "      <td>AAKSLZ9IDTEH0</td>\n",
       "      <td>3426958910</td>\n",
       "      <td>well best of's are a bit poison normally but t...</td>\n",
       "      <td>slayer greatest hits! you mean everything righ...</td>\n",
       "      <td>3</td>\n",
       "      <td>0</td>\n",
       "    </tr>\n",
       "    <tr>\n",
       "      <td>4</td>\n",
       "      <td>4</td>\n",
       "      <td>5.0</td>\n",
       "      <td>A3OH43OZJLKI09</td>\n",
       "      <td>5557706259</td>\n",
       "      <td>What can I say? This is Casting Crowns!!!This ...</td>\n",
       "      <td>This is a good, blessing filled</td>\n",
       "      <td>4</td>\n",
       "      <td>1</td>\n",
       "    </tr>\n",
       "  </tbody>\n",
       "</table>\n",
       "</div>"
      ],
      "text/plain": [
       "   Unnamed: 0  rating          userID      songID  \\\n",
       "0           0     5.0  A2TYZ821XXK2YZ  3426958910   \n",
       "1           1     5.0  A3OFSREZADFUDY  3426958910   \n",
       "2           2     5.0  A2VAMODP8M77NG  3426958910   \n",
       "3           3     4.0   AAKSLZ9IDTEH0  3426958910   \n",
       "4           4     5.0  A3OH43OZJLKI09  5557706259   \n",
       "\n",
       "                                          reviewText  \\\n",
       "0  This is awesome to listen to, A must-have for ...   \n",
       "1                                               bien   \n",
       "2  It was great to hear the old stuff again and I...   \n",
       "3  well best of's are a bit poison normally but t...   \n",
       "4  What can I say? This is Casting Crowns!!!This ...   \n",
       "\n",
       "                                             summary  userID2  songID2  \n",
       "0                                      Slayer Rules!        0        0  \n",
       "1                                         Five Stars        1        0  \n",
       "2                        SLAYER!!!!!!!!!!!!!!!!!!!!!        2        0  \n",
       "3  slayer greatest hits! you mean everything righ...        3        0  \n",
       "4                    This is a good, blessing filled        4        1  "
      ]
     },
     "execution_count": 4,
     "metadata": {},
     "output_type": "execute_result"
    }
   ],
   "source": [
    "music.head()"
   ]
  },
  {
   "cell_type": "code",
   "execution_count": 5,
   "metadata": {},
   "outputs": [
    {
     "data": {
      "text/plain": [
       "24       557\n",
       "345      272\n",
       "723      178\n",
       "1589     177\n",
       "341      176\n",
       "        ... \n",
       "16030      1\n",
       "12841      1\n",
       "16540      1\n",
       "10523      1\n",
       "6417       1\n",
       "Name: userID2, Length: 16566, dtype: int64"
      ]
     },
     "execution_count": 5,
     "metadata": {},
     "output_type": "execute_result"
    }
   ],
   "source": [
    "music.userID2.value_counts()"
   ]
  },
  {
   "cell_type": "code",
   "execution_count": 6,
   "metadata": {},
   "outputs": [
    {
     "data": {
      "text/plain": [
       "7139     572\n",
       "6962     311\n",
       "7317     277\n",
       "9268     259\n",
       "4803     253\n",
       "        ... \n",
       "10059      1\n",
       "10239      1\n",
       "10617      1\n",
       "10745      1\n",
       "10080      1\n",
       "Name: songID2, Length: 11797, dtype: int64"
      ]
     },
     "execution_count": 6,
     "metadata": {},
     "output_type": "execute_result"
    }
   ],
   "source": [
    "music.songID2.value_counts()"
   ]
  },
  {
   "cell_type": "code",
   "execution_count": 7,
   "metadata": {},
   "outputs": [],
   "source": [
    "count_user = Counter(music.userID2)\n",
    "count_songs = Counter(music.songID2)\n",
    "N = len(count_user)\n",
    "M = len(count_songs)"
   ]
  },
  {
   "cell_type": "code",
   "execution_count": 8,
   "metadata": {},
   "outputs": [
    {
     "data": {
      "text/plain": [
       "collections.Counter"
      ]
     },
     "execution_count": 8,
     "metadata": {},
     "output_type": "execute_result"
    }
   ],
   "source": [
    "type(count_user)"
   ]
  },
  {
   "cell_type": "code",
   "execution_count": 9,
   "metadata": {},
   "outputs": [
    {
     "data": {
      "text/plain": [
       "(16566, 11797)"
      ]
     },
     "execution_count": 9,
     "metadata": {},
     "output_type": "execute_result"
    }
   ],
   "source": [
    "N, M"
   ]
  },
  {
   "cell_type": "code",
   "execution_count": 10,
   "metadata": {},
   "outputs": [
    {
     "name": "stdout",
     "output_type": "stream",
     "text": [
      "8.770493782445973 10.211902569272821 1.1643475068315776\n"
     ]
    }
   ],
   "source": [
    "import numpy as np\n",
    "songs_array = list(count_user.values()) \n",
    "mean = np.mean(songs_array)\n",
    "std = np.std(songs_array)\n",
    "CV= float(std)/mean\n",
    "print (mean, std, CV)"
   ]
  },
  {
   "cell_type": "code",
   "execution_count": 11,
   "metadata": {},
   "outputs": [
    {
     "name": "stdout",
     "output_type": "stream",
     "text": [
      "6.0\n",
      "5.0 6.0 9.0 11.0 16.0 22.0 557.0\n"
     ]
    }
   ],
   "source": [
    "median = np.median(songs_array)\n",
    "p_25 = np.percentile(songs_array, 25)\n",
    "p_50 = np.percentile(songs_array, 50)\n",
    "p_75 = np.percentile(songs_array, 75)\n",
    "p_80 = np.percentile(songs_array, 80)\n",
    "p_90 = np.percentile(songs_array, 90)\n",
    "p_95 = np.percentile(songs_array, 95)\n",
    "p_100 = np.percentile(songs_array, 100)\n",
    "print (median)\n",
    "print (p_25, p_50, p_75, p_80, p_90, p_95, p_100)"
   ]
  },
  {
   "cell_type": "code",
   "execution_count": 12,
   "metadata": {},
   "outputs": [],
   "source": [
    "## every user rated in average 6 songs. First 75% of users rated only 9 or less songs, while 95% of users rated\n",
    "## 22 songs or less. 5 % of the Users rated btw 22 and 557 songs. "
   ]
  },
  {
   "cell_type": "code",
   "execution_count": 13,
   "metadata": {},
   "outputs": [
    {
     "data": {
      "image/png": "[encoded data removed]",
      "text/plain": [
       "<Figure size 432x288 with 1 Axes>"
      ]
     },
     "metadata": {
      "needs_background": "light"
     },
     "output_type": "display_data"
    }
   ],
   "source": [
    "x, y = zip(*count_user.most_common(20))\n",
    "x_pos = np.arange(len(x))  \n",
    "plt.bar(x_pos, y, align='center')\n",
    "plt.xticks(x_pos, x, rotation = 90)\n",
    "plt.ylabel('frequency of songs')\n",
    "plt.title('Top 20 users with the highest number of rated songs')\n",
    " \n",
    "plt.show()"
   ]
  },
  {
   "cell_type": "code",
   "execution_count": 14,
   "metadata": {},
   "outputs": [
    {
     "data": {
      "image/png": "[encoded data removed]",
      "text/plain": [
       "<Figure size 432x288 with 1 Axes>"
      ]
     },
     "metadata": {
      "needs_background": "light"
     },
     "output_type": "display_data"
    }
   ],
   "source": [
    "x, y = zip(*count_songs.most_common(20))\n",
    "x_pos = np.arange(len(x))  \n",
    "plt.bar(x_pos, y, align='center')\n",
    "plt.xticks(x_pos, x, rotation = 90)\n",
    "plt.ylabel('frequency of users')\n",
    "plt.title('Top 20 songs that are rated by the most users')\n",
    " \n",
    "plt.show()"
   ]
  },
  {
   "cell_type": "code",
   "execution_count": 15,
   "metadata": {},
   "outputs": [
    {
     "name": "stdout",
     "output_type": "stream",
     "text": [
      "12.316012545562431 15.689152988865354 1.2738825111475138\n"
     ]
    }
   ],
   "source": [
    "users_array = list(count_songs.values()) \n",
    "mean = np.mean(users_array)\n",
    "std = np.std(users_array)\n",
    "CV= float(std)/mean\n",
    "print (mean, std, CV)"
   ]
  },
  {
   "cell_type": "code",
   "execution_count": 16,
   "metadata": {},
   "outputs": [
    {
     "name": "stdout",
     "output_type": "stream",
     "text": [
      "8.0\n",
      "6.0 8.0 13.0 15.0 18.0 23.0 33.0 572.0\n"
     ]
    }
   ],
   "source": [
    "median = np.median(users_array)\n",
    "p_25 = np.percentile(users_array, 25)\n",
    "p_50 = np.percentile(users_array, 50)\n",
    "p_75 = np.percentile(users_array, 75)\n",
    "p_80 = np.percentile(users_array, 80)\n",
    "p_85 = np.percentile(users_array, 85)\n",
    "p_90 = np.percentile(users_array, 90)\n",
    "p_95 = np.percentile(users_array, 95)\n",
    "p_100 = np.percentile(users_array, 100)\n",
    "print (median)\n",
    "print (p_25, p_50, p_75, p_80, p_85, p_90, p_95, p_100)"
   ]
  },
  {
   "cell_type": "code",
   "execution_count": 17,
   "metadata": {},
   "outputs": [
    {
     "data": {
      "text/plain": [
       "5.0    115936\n",
       "4.0     19952\n",
       "3.0      6010\n",
       "1.0      1822\n",
       "2.0      1572\n",
       "Name: rating, dtype: int64"
      ]
     },
     "execution_count": 17,
     "metadata": {},
     "output_type": "execute_result"
    }
   ],
   "source": [
    "music.rating.value_counts()"
   ]
  },
  {
   "cell_type": "code",
   "execution_count": 18,
   "metadata": {},
   "outputs": [
    {
     "data": {
      "text/plain": [
       "(145292,)"
      ]
     },
     "execution_count": 18,
     "metadata": {},
     "output_type": "execute_result"
    }
   ],
   "source": [
    "music.rating.shape"
   ]
  },
  {
   "cell_type": "code",
   "execution_count": 19,
   "metadata": {},
   "outputs": [
    {
     "data": {
      "image/png": "[encoded data removed]",
      "text/plain": [
       "<Figure size 432x288 with 1 Axes>"
      ]
     },
     "metadata": {
      "needs_background": "light"
     },
     "output_type": "display_data"
    }
   ],
   "source": [
    "music.rating.value_counts().plot(kind = 'bar')\n",
    "plt.xlabel(\"Rating\")\n",
    "plt.ylabel('frequency')\n",
    "plt.title('Frequency of Ratings 1-5')\n",
    " \n",
    "plt.show()"
   ]
  },
  {
   "cell_type": "code",
   "execution_count": 20,
   "metadata": {},
   "outputs": [],
   "source": [
    "## every song was rated in average by 8 users. First 75% of users rated only 13 or less songs, while 95% of users rated\n",
    "## 33 songs or less. 5 % of the Users rated btw 33 and 572 songs. "
   ]
  },
  {
   "cell_type": "code",
   "execution_count": 21,
   "metadata": {},
   "outputs": [],
   "source": [
    "# We want to measure how accurate our algortithm is : MSE\n",
    "# split data into train and test\n",
    "# calculate weights using train data\n",
    "# using predict function (score --- predict(i,j))\n",
    "# choose the users who rated the most songs and songs who were rated by the most users"
   ]
  },
  {
   "cell_type": "code",
   "execution_count": 22,
   "metadata": {},
   "outputs": [],
   "source": [
    "# PARAMETERS: we can change those values and put them into the function\n",
    "n, m = 1000, 1000"
   ]
  },
  {
   "cell_type": "code",
   "execution_count": 23,
   "metadata": {},
   "outputs": [],
   "source": [
    "def user_song_id(m,n):\n",
    "    user_id = [u for u,num in count_user.most_common(n)]\n",
    "    song_id = [s for s,num in count_songs.most_common(m)]\n",
    "    return user_id, song_id"
   ]
  },
  {
   "cell_type": "code",
   "execution_count": 24,
   "metadata": {},
   "outputs": [],
   "source": [
    "user_id, song_id = user_song_id(m=1000,n=1000)"
   ]
  },
  {
   "cell_type": "code",
   "execution_count": 25,
   "metadata": {},
   "outputs": [],
   "source": [
    "def music_small_set(user_id, song_id):\n",
    "    music_small = music[music.userID2.isin(user_id)& music.songID2.isin(song_id)]\n",
    "    return music_small"
   ]
  },
  {
   "cell_type": "code",
   "execution_count": 26,
   "metadata": {},
   "outputs": [],
   "source": [
    "music_small = music_small_set(user_id, song_id)"
   ]
  },
  {
   "cell_type": "code",
   "execution_count": 27,
   "metadata": {},
   "outputs": [
    {
     "data": {
      "text/html": [
       "<div>\n",
       "<style scoped>\n",
       "    .dataframe tbody tr th:only-of-type {\n",
       "        vertical-align: middle;\n",
       "    }\n",
       "\n",
       "    .dataframe tbody tr th {\n",
       "        vertical-align: top;\n",
       "    }\n",
       "\n",
       "    .dataframe thead th {\n",
       "        text-align: right;\n",
       "    }\n",
       "</style>\n",
       "<table border=\"1\" class=\"dataframe\">\n",
       "  <thead>\n",
       "    <tr style=\"text-align: right;\">\n",
       "      <th></th>\n",
       "      <th>Unnamed: 0</th>\n",
       "      <th>rating</th>\n",
       "      <th>userID</th>\n",
       "      <th>songID</th>\n",
       "      <th>reviewText</th>\n",
       "      <th>summary</th>\n",
       "      <th>userID2</th>\n",
       "      <th>songID2</th>\n",
       "    </tr>\n",
       "  </thead>\n",
       "  <tbody>\n",
       "    <tr>\n",
       "      <td>23</td>\n",
       "      <td>23</td>\n",
       "      <td>5.0</td>\n",
       "      <td>A9Q28YTLYREO7</td>\n",
       "      <td>7799420340</td>\n",
       "      <td>Michael Jackson has always Been Badd period. f...</td>\n",
       "      <td>Great collection from a Musical Genius</td>\n",
       "      <td>23</td>\n",
       "      <td>3</td>\n",
       "    </tr>\n",
       "    <tr>\n",
       "      <td>24</td>\n",
       "      <td>24</td>\n",
       "      <td>4.0</td>\n",
       "      <td>A3W4D8XOGLWUN5</td>\n",
       "      <td>7799420340</td>\n",
       "      <td>It is hard to imagine enigma's from so many ar...</td>\n",
       "      <td>Wacko About Jacko</td>\n",
       "      <td>24</td>\n",
       "      <td>3</td>\n",
       "    </tr>\n",
       "    <tr>\n",
       "      <td>31</td>\n",
       "      <td>31</td>\n",
       "      <td>5.0</td>\n",
       "      <td>A1VTEL32W5FM13</td>\n",
       "      <td>7799420340</td>\n",
       "      <td>Great</td>\n",
       "      <td>Five Stars</td>\n",
       "      <td>31</td>\n",
       "      <td>3</td>\n",
       "    </tr>\n",
       "    <tr>\n",
       "      <td>39</td>\n",
       "      <td>39</td>\n",
       "      <td>5.0</td>\n",
       "      <td>A1DJDDPJP6THC1</td>\n",
       "      <td>7799420340</td>\n",
       "      <td>Great</td>\n",
       "      <td>Five Stars</td>\n",
       "      <td>38</td>\n",
       "      <td>3</td>\n",
       "    </tr>\n",
       "    <tr>\n",
       "      <td>44</td>\n",
       "      <td>44</td>\n",
       "      <td>5.0</td>\n",
       "      <td>A3F7U41ZW2FPE8</td>\n",
       "      <td>7799420340</td>\n",
       "      <td>Great as usual.</td>\n",
       "      <td>Five Stars</td>\n",
       "      <td>43</td>\n",
       "      <td>3</td>\n",
       "    </tr>\n",
       "  </tbody>\n",
       "</table>\n",
       "</div>"
      ],
      "text/plain": [
       "    Unnamed: 0  rating          userID      songID  \\\n",
       "23          23     5.0   A9Q28YTLYREO7  7799420340   \n",
       "24          24     4.0  A3W4D8XOGLWUN5  7799420340   \n",
       "31          31     5.0  A1VTEL32W5FM13  7799420340   \n",
       "39          39     5.0  A1DJDDPJP6THC1  7799420340   \n",
       "44          44     5.0  A3F7U41ZW2FPE8  7799420340   \n",
       "\n",
       "                                           reviewText  \\\n",
       "23  Michael Jackson has always Been Badd period. f...   \n",
       "24  It is hard to imagine enigma's from so many ar...   \n",
       "31                                              Great   \n",
       "39                                              Great   \n",
       "44                                    Great as usual.   \n",
       "\n",
       "                                   summary  userID2  songID2  \n",
       "23  Great collection from a Musical Genius       23        3  \n",
       "24                       Wacko About Jacko       24        3  \n",
       "31                              Five Stars       31        3  \n",
       "39                              Five Stars       38        3  \n",
       "44                              Five Stars       43        3  "
      ]
     },
     "execution_count": 27,
     "metadata": {},
     "output_type": "execute_result"
    }
   ],
   "source": [
    "music_small.head()"
   ]
  },
  {
   "cell_type": "code",
   "execution_count": 28,
   "metadata": {},
   "outputs": [
    {
     "data": {
      "text/plain": [
       "(11165, 8)"
      ]
     },
     "execution_count": 28,
     "metadata": {},
     "output_type": "execute_result"
    }
   ],
   "source": [
    "music_small.shape"
   ]
  },
  {
   "cell_type": "code",
   "execution_count": 29,
   "metadata": {},
   "outputs": [],
   "source": [
    "# select data only with specific userIDs, dataIDs\n",
    "# we copy the file since panads will not allow us to overwrite the data, \n",
    "# only one copy of data frame is in memory. When we want to see some rows and columns this is\n",
    "# only a pointer to data frame\n",
    "def select_data(n,m):\n",
    "    user_id = [u for u,num in count_user.most_common(n)]\n",
    "    song_id = [s for s,num in count_songs.most_common(m)]\n",
    "    music_small = music[music.userID2.isin(user_id)&music.songID2.isin(song_id)].copy()\n",
    "    n1 = len(Counter(music_small.userID2))\n",
    "    m1 = len(Counter(music_small.songID2))\n",
    "    dict1 = {uid: count for uid, count in zip(music_small.userID2.unique(), range(n1))}\n",
    "    dict2 = {sid: count for sid, count in zip(music_small.songID2.unique(), range(m1))}\n",
    "    music_small['user_ids'] = music_small['userID2'].apply(lambda x: dict1[x])\n",
    "    music_small['songs_ids'] = music_small['songID2'].apply(lambda x: dict2[x])\n",
    "    return music_small"
   ]
  },
  {
   "cell_type": "code",
   "execution_count": 30,
   "metadata": {},
   "outputs": [],
   "source": [
    "music_small = select_data(1000,2500)\n"
   ]
  },
  {
   "cell_type": "code",
   "execution_count": 31,
   "metadata": {},
   "outputs": [],
   "source": [
    "# e count how many users rated one song Item_based\n",
    "count_songs_per_user = Counter(music_small.user_ids)\n",
    "count_users_per_songs = Counter(music_small.songs_ids)\n",
    "s = len(count_songs_per_user)\n",
    "m = len(count_users_per_songs)"
   ]
  },
  {
   "cell_type": "code",
   "execution_count": 32,
   "metadata": {},
   "outputs": [
    {
     "name": "stdout",
     "output_type": "stream",
     "text": [
      "18.596596596596598 14.066851272874167 0.7564207353644791\n"
     ]
    }
   ],
   "source": [
    "users_array = list(count_songs_per_user.values()) \n",
    "mean = np.mean(users_array)\n",
    "std = np.std(users_array)\n",
    "CV= float(std)/mean\n",
    "print (mean, std, CV)"
   ]
  },
  {
   "cell_type": "code",
   "execution_count": 33,
   "metadata": {},
   "outputs": [
    {
     "name": "stdout",
     "output_type": "stream",
     "text": [
      "15.0\n",
      "11.0 15.0 22.0 24.0 33.0 40.0 253.0\n"
     ]
    }
   ],
   "source": [
    "median = np.median(users_array)\n",
    "p_25 = np.percentile(users_array, 25)\n",
    "p_50 = np.percentile(users_array, 50)\n",
    "p_75 = np.percentile(users_array, 75)\n",
    "p_80 = np.percentile(users_array, 80)\n",
    "p_90 = np.percentile(users_array, 90)\n",
    "p_95 = np.percentile(users_array, 95)\n",
    "p_100 = np.percentile(users_array, 100)\n",
    "print (median)\n",
    "print (p_25, p_50, p_75, p_80, p_90, p_95, p_100)"
   ]
  },
  {
   "cell_type": "code",
   "execution_count": 34,
   "metadata": {},
   "outputs": [
    {
     "name": "stdout",
     "output_type": "stream",
     "text": [
      "7.518413597733711 6.308310738321906 0.8390481125198316\n"
     ]
    }
   ],
   "source": [
    "songs_array_s = list(count_users_per_songs.values()) \n",
    "mean = np.mean(songs_array_s)\n",
    "std = np.std(songs_array_s)\n",
    "CV= float(std)/mean\n",
    "print (mean, std, CV)"
   ]
  },
  {
   "cell_type": "code",
   "execution_count": 35,
   "metadata": {},
   "outputs": [
    {
     "name": "stdout",
     "output_type": "stream",
     "text": [
      "6.0\n",
      "4.0 6.0 9.0 10.0 13.0 18.0 90.0\n"
     ]
    }
   ],
   "source": [
    "median = np.median(songs_array_s)\n",
    "p_25 = np.percentile(songs_array_s, 25)\n",
    "p_50 = np.percentile(songs_array_s, 50)\n",
    "p_75 = np.percentile(songs_array_s, 75)\n",
    "p_80 = np.percentile(songs_array_s, 80)\n",
    "p_90 = np.percentile(songs_array_s, 90)\n",
    "p_95 = np.percentile(songs_array_s, 95)\n",
    "p_100 = np.percentile(songs_array_s, 100)\n",
    "print (median)\n",
    "print (p_25, p_50, p_75, p_80, p_90, p_95, p_100)"
   ]
  },
  {
   "cell_type": "code",
   "execution_count": 36,
   "metadata": {},
   "outputs": [],
   "source": [
    "music_small.to_csv(\"music_small.csv\")"
   ]
  },
  {
   "cell_type": "code",
   "execution_count": null,
   "metadata": {},
   "outputs": [],
   "source": []
  }
 ],
 "metadata": {
  "kernelspec": {
   "display_name": "Python 3",
   "language": "python",
   "name": "python3"
  },
  "language_info": {
   "codemirror_mode": {
    "name": "ipython",
    "version": 3
   },
   "file_extension": ".py",
   "mimetype": "text/x-python",
   "name": "python",
   "nbconvert_exporter": "python",
   "pygments_lexer": "ipython3",
   "version": "3.6.7"
  }
 },
 "nbformat": 4,
 "nbformat_minor": 2
}
