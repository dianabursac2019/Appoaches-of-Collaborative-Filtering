{
 "cells": [
  {
   "cell_type": "code",
   "execution_count": 1,
   "metadata": {},
   "outputs": [],
   "source": [
    "import pickle\n",
    "import pandas as pd\n",
    "from collections import defaultdict\n",
    "import numpy as np\n",
    "import datetime\n",
    "from statistics import mean\n",
    "import matplotlib.pyplot as plt\n",
    "%matplotlib inline"
   ]
  },
  {
   "cell_type": "code",
   "execution_count": 2,
   "metadata": {},
   "outputs": [],
   "source": [
    "\n",
    "with open('user_songs_train.json', 'rb') as f:\n",
    "    user_songs_train = pickle.load(f)\n",
    "with open('user_songs_test.json', 'rb') as f:\n",
    "    user_songs_test = pickle.load(f)\n",
    "with open('ratings_train.json', 'rb') as f:\n",
    "    ratings_train = pickle.load(f)\n",
    "with open('ratings_test.json', 'rb') as f:\n",
    "    ratings_test = pickle.load(f)\n",
    "with open('song_users_train.json', 'rb') as f:\n",
    "    song_users_train = pickle.load(f)\n",
    "with open('song_users_test.json', 'rb') as f:\n",
    "    song_users_test = pickle.load(f)\n",
    "with open('ratings_train_s.json', 'rb') as f:\n",
    "    ratings_train_s = pickle.load(f)\n",
    "with open('ratings_test_s.json', 'rb') as f:\n",
    "    ratings_test_s = pickle.load(f)"
   ]
  },
  {
   "cell_type": "code",
   "execution_count": 3,
   "metadata": {},
   "outputs": [
    {
     "data": {
      "text/plain": [
       "999"
      ]
     },
     "execution_count": 3,
     "metadata": {},
     "output_type": "execute_result"
    }
   ],
   "source": [
    "len(user_songs_train)"
   ]
  },
  {
   "cell_type": "code",
   "execution_count": 4,
   "metadata": {},
   "outputs": [
    {
     "data": {
      "text/plain": [
       "2471"
      ]
     },
     "execution_count": 4,
     "metadata": {},
     "output_type": "execute_result"
    }
   ],
   "source": [
    "len(song_users_train)"
   ]
  },
  {
   "cell_type": "code",
   "execution_count": 5,
   "metadata": {},
   "outputs": [],
   "source": [
    "N, M = len(user_songs_train), len(song_users_train)"
   ]
  },
  {
   "cell_type": "code",
   "execution_count": 6,
   "metadata": {},
   "outputs": [],
   "source": [
    "# K number of latent features\n",
    "K = 10\n",
    "W = np.random.rand(N,K)\n",
    "b = np.zeros(N)\n",
    "U = np.random.rand(M,K)\n",
    "c = np.zeros(M)\n",
    "mu = np.mean(list(ratings_train.values()))\n"
   ]
  },
  {
   "cell_type": "code",
   "execution_count": 7,
   "metadata": {},
   "outputs": [
    {
     "data": {
      "text/plain": [
       "(2471, 10)"
      ]
     },
     "execution_count": 7,
     "metadata": {},
     "output_type": "execute_result"
    }
   ],
   "source": [
    "U.shape"
   ]
  },
  {
   "cell_type": "code",
   "execution_count": 8,
   "metadata": {},
   "outputs": [],
   "source": [
    "def get_loss(s2u):  \n",
    "    '''s2u(key) is 'song_ID' and value is (list of users, np.array(ratings))\n",
    "    we create vector of predictions in vectorized form'''\n",
    "    Nr= 0\n",
    "    sse = 0\n",
    "    for j,(uid,r) in s2u.items():\n",
    "        p = W[uid].dot(U[j])+b[uid]+c[j]+ mu\n",
    "        error = p-r \n",
    "        sse += error.dot(error)\n",
    "        Nr +=len(r)\n",
    "    return sse/Nr"
   ]
  },
  {
   "cell_type": "code",
   "execution_count": 9,
   "metadata": {},
   "outputs": [
    {
     "name": "stdout",
     "output_type": "stream",
     "text": [
      "converting...\n"
     ]
    }
   ],
   "source": [
    "# convert user2song and song2user to include ratings\n",
    "# if I have a list of songs I can adress U and c directly and I need a coresponding rating\n",
    "# currently we have a single dictonary that takes only single song j and single user i and look for rating\n",
    "# for each user I want to have all the songs and all corresponding ratings\n",
    "# it is faster to loop across songs dict then across users dict since in the data set we have \n",
    "# more songs then users\n",
    "print(\"converting...\")\n",
    "user_songs_r = {}\n",
    "for i, songs in user_songs_train.items():\n",
    "    r = np.array([ratings_train[(i,j)] for j in songs])\n",
    "    user_songs_r[i] = (songs, r)\n",
    "song_users_r = {}\n",
    "for j, users in song_users_train.items():\n",
    "    r = np.array([ratings_train_s[(i,j)] for i in users])\n",
    "    song_users_r[j] = (users, r)\n",
    "    \n",
    "# create for the test data\n",
    "\n",
    "user_songs_r_test = {}\n",
    "for i, songs in user_songs_test.items():\n",
    "    r = np.array([ratings_test[(i,j)] for j in songs])\n",
    "    user_songs_r_test[i] = (songs, r)\n",
    "song_users_r_test = {}\n",
    "for j, users in song_users_test.items():\n",
    "    r = np.array([ratings_test_s[(i,j)] for i in users])\n",
    "    song_users_r_test[j] = (users, r)    "
   ]
  },
  {
   "cell_type": "code",
   "execution_count": 10,
   "metadata": {},
   "outputs": [
    {
     "data": {
      "text/plain": [
       "(999, 999)"
      ]
     },
     "execution_count": 10,
     "metadata": {},
     "output_type": "execute_result"
    }
   ],
   "source": [
    "len(user_songs_r), len(user_songs_r_test)"
   ]
  },
  {
   "cell_type": "code",
   "execution_count": 11,
   "metadata": {},
   "outputs": [
    {
     "data": {
      "text/plain": [
       "(2471, 2471)"
      ]
     },
     "execution_count": 11,
     "metadata": {},
     "output_type": "execute_result"
    }
   ],
   "source": [
    "len(song_users_r), len(song_users_r_test)"
   ]
  },
  {
   "cell_type": "code",
   "execution_count": 12,
   "metadata": {},
   "outputs": [
    {
     "name": "stdout",
     "output_type": "stream",
     "text": [
      "epoch: 0\n",
      "i: 0 N: 999\n",
      "updated W and b: 0:00:00.097190\n",
      "updated U and c: 0:00:00.333353\n",
      "epoch duration: 0:00:00.431233\n",
      "calculate cost: 0:00:00.065369\n",
      "train loss 0.36985735211986975\n",
      "test loss 0.42908173941282374\n",
      "epoch: 1\n",
      "i: 0 N: 999\n",
      "updated W and b: 0:00:00.086596\n",
      "updated U and c: 0:00:00.222132\n",
      "epoch duration: 0:00:00.309040\n",
      "calculate cost: 0:00:00.086143\n",
      "train loss 0.3023917357048961\n",
      "test loss 0.39977194823029194\n",
      "epoch: 2\n",
      "i: 0 N: 999\n",
      "updated W and b: 0:00:00.121764\n",
      "updated U and c: 0:00:00.281875\n",
      "epoch duration: 0:00:00.404884\n",
      "calculate cost: 0:00:00.066811\n",
      "train loss 0.29073449579525157\n",
      "test loss 0.3954809799858874\n",
      "epoch: 3\n",
      "i: 0 N: 999\n",
      "updated W and b: 0:00:00.087385\n",
      "updated U and c: 0:00:00.266514\n",
      "epoch duration: 0:00:00.354144\n",
      "calculate cost: 0:00:00.062583\n",
      "train loss 0.2883596256067915\n",
      "test loss 0.3945815871205609\n",
      "epoch: 4\n",
      "i: 0 N: 999\n",
      "updated W and b: 0:00:00.089463\n",
      "updated U and c: 0:00:00.227262\n",
      "epoch duration: 0:00:00.316959\n",
      "calculate cost: 0:00:00.065125\n",
      "train loss 0.2874348261027264\n",
      "test loss 0.3941726591632553\n",
      "epoch: 5\n",
      "i: 0 N: 999\n",
      "updated W and b: 0:00:00.082359\n",
      "updated U and c: 0:00:00.198476\n",
      "epoch duration: 0:00:00.281083\n",
      "calculate cost: 0:00:00.081501\n",
      "train loss 0.286934676762055\n",
      "test loss 0.39396586416048673\n",
      "epoch: 6\n",
      "i: 0 N: 999\n",
      "updated W and b: 0:00:00.079939\n",
      "updated U and c: 0:00:00.213172\n",
      "epoch duration: 0:00:00.293532\n",
      "calculate cost: 0:00:00.072690\n",
      "train loss 0.28660019332613607\n",
      "test loss 0.39382108797468207\n",
      "epoch: 7\n",
      "i: 0 N: 999\n",
      "updated W and b: 0:00:00.116596\n",
      "updated U and c: 0:00:00.203378\n",
      "epoch duration: 0:00:00.320295\n",
      "calculate cost: 0:00:00.064054\n",
      "train loss 0.28635380594943843\n",
      "test loss 0.3936901680263039\n",
      "epoch: 8\n",
      "i: 0 N: 999\n",
      "updated W and b: 0:00:00.086497\n",
      "updated U and c: 0:00:00.208091\n",
      "epoch duration: 0:00:00.294851\n",
      "calculate cost: 0:00:00.065761\n",
      "train loss 0.28616300797823696\n",
      "test loss 0.39355569333506035\n",
      "epoch: 9\n",
      "i: 0 N: 999\n",
      "updated W and b: 0:00:00.083819\n",
      "updated U and c: 0:00:00.206640\n",
      "epoch duration: 0:00:00.290894\n",
      "calculate cost: 0:00:00.070205\n",
      "train loss 0.28600960494154937\n",
      "test loss 0.393412844162815\n",
      "epoch: 10\n",
      "i: 0 N: 999\n",
      "updated W and b: 0:00:00.103623\n",
      "updated U and c: 0:00:00.223709\n",
      "epoch duration: 0:00:00.327572\n",
      "calculate cost: 0:00:00.065447\n",
      "train loss 0.2858816856814028\n",
      "test loss 0.3932624861943047\n",
      "epoch: 11\n",
      "i: 0 N: 999\n",
      "updated W and b: 0:00:00.080904\n",
      "updated U and c: 0:00:00.212537\n",
      "epoch duration: 0:00:00.293684\n",
      "calculate cost: 0:00:00.069353\n",
      "train loss 0.285771096402857\n",
      "test loss 0.3931079954385506\n",
      "epoch: 12\n",
      "i: 0 N: 999\n",
      "updated W and b: 0:00:00.086650\n",
      "updated U and c: 0:00:00.211174\n",
      "epoch duration: 0:00:00.298060\n",
      "calculate cost: 0:00:00.067259\n",
      "train loss 0.28567237959201897\n",
      "test loss 0.3929536318053479\n",
      "epoch: 13\n",
      "i: 0 N: 999\n",
      "updated W and b: 0:00:00.135212\n",
      "updated U and c: 0:00:00.228421\n",
      "epoch duration: 0:00:00.363888\n",
      "calculate cost: 0:00:00.073841\n",
      "train loss 0.2855821235757799\n",
      "test loss 0.3928036427879934\n",
      "epoch: 14\n",
      "i: 0 N: 999\n",
      "updated W and b: 0:00:00.081974\n",
      "updated U and c: 0:00:00.200383\n",
      "epoch duration: 0:00:00.282649\n",
      "calculate cost: 0:00:00.063848\n",
      "train loss 0.2854984387219256\n",
      "test loss 0.3926617737994759\n",
      "train losses: [0.36985735211986975, 0.3023917357048961, 0.29073449579525157, 0.2883596256067915, 0.2874348261027264, 0.286934676762055, 0.28660019332613607, 0.28635380594943843, 0.28616300797823696, 0.28600960494154937, 0.2858816856814028, 0.285771096402857, 0.28567237959201897, 0.2855821235757799, 0.2854984387219256]\n",
      "test losses: [0.42908173941282374, 0.39977194823029194, 0.3954809799858874, 0.3945815871205609, 0.3941726591632553, 0.39396586416048673, 0.39382108797468207, 0.3936901680263039, 0.39355569333506035, 0.393412844162815, 0.3932624861943047, 0.3931079954385506, 0.3929536318053479, 0.3928036427879934, 0.3926617737994759]\n",
      "average computational time per epoch: 0.3241845333333333\n"
     ]
    },
    {
     "data": {
      "image/png": "[encoded data removed]",
      "text/plain": [
       "<Figure size 432x288 with 1 Axes>"
      ]
     },
     "metadata": {
      "needs_background": "light"
     },
     "output_type": "display_data"
    }
   ],
   "source": [
    "# for every user I want to have all the songs and all the ratings so I don't to loop over them again\n",
    "# run this for 15 epochs and use regularization penalty\n",
    "# we built Wi for each user i based on all songs he rated (sid, r )\n",
    "# r is lenth T\n",
    "# W[i] --> K\n",
    "# c[sid] --> T\n",
    "# mu scalar\n",
    "# U[sid] --> TxK\n",
    "# bi --> T (bi is scaler so I want to sum up over the T values)\n",
    "# we need r to be numay array in order to be able to do subsdtraction\n",
    "epochs = 15\n",
    "reg = 5\n",
    "train_losses = []\n",
    "test_losses = []\n",
    "time_epoch = []\n",
    "for epoch in range(epochs):\n",
    "    print(\"epoch:\", epoch)\n",
    "    epoch_start = datetime.datetime.now()\n",
    "    t0 = datetime.datetime.now()\n",
    "    for i in user_songs_train.keys():\n",
    "        sid, r = user_songs_r[i]\n",
    "        wi1 = U[sid].T.dot(U[sid]) + np.eye(K)*reg\n",
    "        wi2 = (r - b[i]-c[sid]-mu).dot(U[sid])\n",
    "        bi = (r-U[sid].dot(W[i]) - c[sid]-mu).sum()\n",
    "        # set the updates\n",
    "        W[i] = np.linalg.solve(wi1, wi2)\n",
    "        b[i] = bi/(len(user_songs_train)+reg)\n",
    "        \n",
    "        if i%(N/10) ==0:\n",
    "            print(\"i:\", i, \"N:\", N)\n",
    "    print(\"updated W and b:\", datetime.datetime.now()-t0)\n",
    "    # update U and c\n",
    "    t0 = datetime.datetime.now()\n",
    "    for j in song_users_train.keys():\n",
    "        try:\n",
    "            uid, r = song_users_r[j]\n",
    "            ui1 = W[uid].T.dot(W[uid]) + np.eye(K)*reg\n",
    "            ui2 = (r - b[uid]-c[j]-mu).dot(W[uid])\n",
    "            cj = (r-W[uid].dot(U[j]) - b[uid]-mu).sum()\n",
    "            # set the updates\n",
    "            U[j] = np.linalg.solve(ui1, ui2)\n",
    "            c[j] = bi/(len(song_users_train)+reg)\n",
    "            if i%(M/10) ==0:\n",
    "                print(\"i:\", i, \"M:\", M)\n",
    "        except KeyError:\n",
    "        # possible not to have any rating for a movie\n",
    "            pass\n",
    "    print(\"updated U and c:\", datetime.datetime.now()-t0)\n",
    "    epoch_end = datetime.datetime.now()\n",
    "    delta = (epoch_end-epoch_start).total_seconds()\n",
    "    time_epoch.append(delta)\n",
    "    print(\"epoch duration:\", epoch_end-epoch_start)\n",
    "     \n",
    "    # store train loss\n",
    "    t0 = datetime.datetime.now()\n",
    "    train_losses.append(get_loss(song_users_r))\n",
    "    # store test loss:\n",
    "    test_losses.append(get_loss(song_users_r_test))\n",
    "    print(\"calculate cost:\", datetime.datetime.now()-t0)\n",
    "    print(\"train loss\", train_losses[-1])\n",
    "    print(\"test loss\", test_losses[-1])\n",
    "print(\"train losses:\", train_losses)\n",
    "print(\"test losses:\", test_losses)\n",
    "print(\"average computational time per epoch:\", mean(time_epoch))\n",
    "\n",
    "# plt losses\n",
    "plt.plot(train_losses, label = \"train_loss\")\n",
    "plt.plot(test_losses, label = \"test loss\")\n",
    "plt.xlabel('no epochs')\n",
    "plt.ylabel('MSE error')\n",
    "plt.title('Matrix Factorization_Train-test error K = 10, reg = 5')\n",
    "plt.legend()\n",
    "plt.show()"
   ]
  },
  {
   "cell_type": "code",
   "execution_count": 13,
   "metadata": {},
   "outputs": [
    {
     "data": {
      "text/plain": [
       "0.3241845333333333"
      ]
     },
     "execution_count": 13,
     "metadata": {},
     "output_type": "execute_result"
    }
   ],
   "source": [
    "mean(time_epoch)"
   ]
  },
  {
   "cell_type": "code",
   "execution_count": null,
   "metadata": {},
   "outputs": [],
   "source": []
  }
 ],
 "metadata": {
  "kernelspec": {
   "display_name": "Python 3",
   "language": "python",
   "name": "python3"
  },
  "language_info": {
   "codemirror_mode": {
    "name": "ipython",
    "version": 3
   },
   "file_extension": ".py",
   "mimetype": "text/x-python",
   "name": "python",
   "nbconvert_exporter": "python",
   "pygments_lexer": "ipython3",
   "version": "3.6.7"
  }
 },
 "nbformat": 4,
 "nbformat_minor": 2
}
