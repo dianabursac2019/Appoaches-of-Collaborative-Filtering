{
 "cells": [
  {
   "cell_type": "code",
   "execution_count": 1,
   "metadata": {},
   "outputs": [],
   "source": [
    "import pickle\n",
    "import pandas as pd\n",
    "from collections import defaultdict\n",
    "import numpy as np\n",
    "import datetime"
   ]
  },
  {
   "cell_type": "code",
   "execution_count": 2,
   "metadata": {},
   "outputs": [],
   "source": [
    "# Load Data\n",
    "with open('user_songs_all.json', 'rb') as f:\n",
    "    user_songs = pickle.load(f)\n",
    "with open('song_users_train.json', 'rb') as f:\n",
    "    song_users_train = pickle.load(f)\n",
    "with open('song_users_test.json', 'rb') as f:\n",
    "    song_users_test = pickle.load(f)\n",
    "with open('ratings_train_s.json', 'rb') as f:\n",
    "    ratings_train_s = pickle.load(f)\n",
    "with open('ratings_test_s.json', 'rb') as f:\n",
    "    ratings_test_s = pickle.load(f)\n",
    "with open('user_song_ratings.json', 'rb') as f:\n",
    "    ratings_all = pickle.load(f)\n"
   ]
  },
  {
   "cell_type": "code",
   "execution_count": 3,
   "metadata": {},
   "outputs": [
    {
     "data": {
      "text/plain": [
       "[55, 38, 57, 58, 59, 60, 62, 63, 64, 978, 27]"
      ]
     },
     "execution_count": 3,
     "metadata": {},
     "output_type": "execute_result"
    }
   ],
   "source": [
    "song_users_train[11]"
   ]
  },
  {
   "cell_type": "code",
   "execution_count": 4,
   "metadata": {},
   "outputs": [
    {
     "data": {
      "text/plain": [
       "[61, 56, 54]"
      ]
     },
     "execution_count": 4,
     "metadata": {},
     "output_type": "execute_result"
    }
   ],
   "source": [
    "song_users_test[11]"
   ]
  },
  {
   "cell_type": "code",
   "execution_count": 5,
   "metadata": {},
   "outputs": [
    {
     "data": {
      "text/plain": [
       "4.0"
      ]
     },
     "execution_count": 5,
     "metadata": {},
     "output_type": "execute_result"
    }
   ],
   "source": [
    "ratings_all[(58,11)]"
   ]
  },
  {
   "cell_type": "code",
   "execution_count": 6,
   "metadata": {},
   "outputs": [],
   "source": [
    "def ib_cf(limit):\n",
    "    K =30\n",
    "    averages = {} # each user average use\n",
    "    deviations = defaultdict(list)\n",
    "    neighboors = defaultdict(list)\n",
    "    for i in song_users_train.keys():\n",
    "        users_i = song_users_train[i]\n",
    "        users_i_set = set(users_i)\n",
    "        ratings_i = {u: ratings_all[(u, i)] for u in users_i}\n",
    "        avg_i = np.mean(list(ratings_i.values()))\n",
    "        dev_i = {u:(r - avg_i) for u, r in ratings_i.items()}\n",
    "        dev_i_values = np.array(list(dev_i.values()))\n",
    "        sigma_i = np.sqrt(np.dot(dev_i_values, dev_i_values))\n",
    "        averages[i] = avg_i\n",
    "        deviations[i].append(dev_i)\n",
    "        sl = []\n",
    "        for j in song_users_train.keys():\n",
    "            if j!=i:\n",
    "                users_j = song_users_train[j]\n",
    "                users_j_set = set(users_j)\n",
    "                common_users = (users_j_set)&(users_i_set)\n",
    "                if len(common_users)>= limit:\n",
    "                    ratings_j = {u:ratings_all[(u,j)] for u in users_j}\n",
    "                    avg_j = np.mean(list(ratings_j.values()))\n",
    "                    dev_j = {s:(r - avg_j) for s, r in ratings_j.items()}\n",
    "                    dev_j_values = np.array(list(dev_j.values()))\n",
    "                    sigma_j = np.sqrt(np.dot(dev_j_values, dev_j_values))\n",
    "                    num = sum(dev_i[s]*dev_j[s] for s in common_users)\n",
    "                    wij = num / (sigma_i*sigma_j+0.0001)\n",
    "                    sl.append((wij,j))\n",
    "            else:\n",
    "                continue\n",
    "        sl.sort(reverse = True)\n",
    "        neighboors[i].append(sl[0:K])\n",
    "    return neighboors,deviations,averages"
   ]
  },
  {
   "cell_type": "code",
   "execution_count": 7,
   "metadata": {},
   "outputs": [
    {
     "name": "stdout",
     "output_type": "stream",
     "text": [
      "Time to find the neighboors where limit =3: 0:00:10.159146\n"
     ]
    }
   ],
   "source": [
    "# LIMIT >= 3\n",
    "\n",
    "t0 = datetime.datetime.now()\n",
    "neighboors, deviations, averages = ib_cf(limit=3)\n",
    "delta_limit4 = datetime.datetime.now()-t0\n",
    "print(\"Time to find the neighboors where limit =3:\", delta_limit4)"
   ]
  },
  {
   "cell_type": "code",
   "execution_count": 8,
   "metadata": {},
   "outputs": [
    {
     "name": "stdout",
     "output_type": "stream",
     "text": [
      "Time to find the neighboors where limit =0: 0:00:33.631186\n"
     ]
    }
   ],
   "source": [
    "# LIMIT >= 1\n",
    "\n",
    "t0 = datetime.datetime.now()\n",
    "neighboors1, deviations1, averages1 = ib_cf(limit=1)\n",
    "delta_limit0 = datetime.datetime.now()-t0\n",
    "print(\"Time to find the neighboors where limit =1:\", delta_limit0)"
   ]
  },
  {
   "cell_type": "code",
   "execution_count": 9,
   "metadata": {},
   "outputs": [
    {
     "data": {
      "text/plain": [
       "[[(0.2250379233917503, 626),\n",
       "  (0.1477923683511897, 483),\n",
       "  (0.053119366832364734, 736),\n",
       "  (0.050506096661748816, 418),\n",
       "  (0.03571275516763569, 726),\n",
       "  (-0.014007471239676309, 230),\n",
       "  (-0.016447818405694294, 291)]]"
      ]
     },
     "execution_count": 9,
     "metadata": {},
     "output_type": "execute_result"
    }
   ],
   "source": [
    "neighboors[51]"
   ]
  },
  {
   "cell_type": "code",
   "execution_count": 10,
   "metadata": {},
   "outputs": [
    {
     "data": {
      "text/plain": [
       "[[(0.44093355326138484, 257),\n",
       "  (0.43158453903911087, 2060),\n",
       "  (0.42928881260350565, 87),\n",
       "  (0.425514001330958, 639),\n",
       "  (0.4249057931671054, 1033),\n",
       "  (0.4221606724128223, 1939),\n",
       "  (0.4183050147609845, 2164),\n",
       "  (0.4124539572072897, 1837),\n",
       "  (0.40822329199470014, 1903),\n",
       "  (0.40822329199470014, 1109),\n",
       "  (0.4025257433378565, 746),\n",
       "  (0.3943928192694612, 1809),\n",
       "  (0.39438032045787147, 1023),\n",
       "  (0.36001615164734013, 771),\n",
       "  (0.36001615164734013, 446),\n",
       "  (0.36001615164734013, 8),\n",
       "  (0.3593211254103255, 1910),\n",
       "  (0.3117797842354604, 1134),\n",
       "  (0.306176843134938, 1137),\n",
       "  (0.2987937600767109, 1696),\n",
       "  (0.2974202849912217, 2200),\n",
       "  (0.2957914896831799, 1727),\n",
       "  (0.283397467152571, 1031),\n",
       "  (0.2788741760715967, 1263),\n",
       "  (0.2700183630122716, 870),\n",
       "  (0.2639030080161514, 2117),\n",
       "  (0.2594314917289065, 2110),\n",
       "  (0.2545833720101831, 497),\n",
       "  (0.2545750392223655, 1287),\n",
       "  (0.2545750392223655, 466)]]"
      ]
     },
     "execution_count": 10,
     "metadata": {},
     "output_type": "execute_result"
    }
   ],
   "source": [
    "neighboors1[51]"
   ]
  },
  {
   "cell_type": "code",
   "execution_count": 11,
   "metadata": {},
   "outputs": [],
   "source": [
    "# predict function that takes in user 'i' and song 's'\n",
    "# we use the ratings of the nearest neighboors j to predict the rating of user i\n",
    "# neighboors might not have been rated the same song: Key Error, \n",
    "# deviation for that song doesn't exist\n",
    "# pass - throw the error\n",
    "# if the rating is higher than 5 , gives 5, if it is less than 0.5 return 0.5\n",
    "\n",
    "class predict_error(object):\n",
    "    def __init__(self,k, neighboors,deviations,averages):\n",
    "        self.k = k\n",
    "        self.neighboors = neighboors\n",
    "        self.deviations = deviations\n",
    "        self.averages = averages\n",
    "        \n",
    "    def predict(self,i,s):\n",
    "        numerator = 0\n",
    "        denominator = 0\n",
    "        for wij,j in self.neighboors[s][0][0:self.k]:\n",
    "            try: \n",
    "                dev = self.deviations[j][0].get(i,0)\n",
    "                numerator+=wij*dev\n",
    "                denominator+=abs(wij)\n",
    "            except KeyError:\n",
    "                pass\n",
    "        if denominator == 0:\n",
    "            prediction = self.averages[s]\n",
    "        elif denominator == 0 and numerator ==0:\n",
    "            prediction = self.averages[s]\n",
    "        else:\n",
    "            prediction = self.averages[s]+numerator/denominator\n",
    "        prediction = min(5, prediction)\n",
    "        prediction = max(0.5, prediction)\n",
    "        return prediction\n",
    "\n",
    "    def mse(self, p,t):\n",
    "        p = np.array(p)\n",
    "        t = np.array(t)\n",
    "        return np.mean((p-t)**2)\n",
    "    \n",
    "    def mae(self, p,t):\n",
    "        p = np.array(p)\n",
    "        t = np.array(t)\n",
    "        return np.mean(abs(p-t))\n",
    "\n",
    "    def train_error(self):\n",
    "        train_predictions, train_targets = [], []\n",
    "        for (i,s),r in ratings_train_s.items():\n",
    "            predict_rating= self.predict(i,s)\n",
    "            train_targets.append(r)\n",
    "            train_predictions.append(predict_rating)\n",
    "        mse_train = self.mae(train_predictions, train_targets)\n",
    "        return mse_train\n",
    "    \n",
    "    def test_error(self):\n",
    "        test_predictions, test_targets = [], []\n",
    "        for (i,s),r in ratings_test_s.items():\n",
    "            predict_rating_T= self.predict(i,s)\n",
    "            test_targets.append(r)\n",
    "            test_predictions.append(predict_rating_T)\n",
    "        mse_test = self.mae(test_predictions, test_targets)\n",
    "        return mse_test    "
   ]
  },
  {
   "cell_type": "code",
   "execution_count": 12,
   "metadata": {},
   "outputs": [
    {
     "name": "stdout",
     "output_type": "stream",
     "text": [
      "Time to predict where limit >=3 K=1: 0:00:00.081745\n"
     ]
    }
   ],
   "source": [
    "#LIMIT >= 3, K = 1\n",
    "t0 = datetime.datetime.now()\n",
    "class_predict_k1= predict_error(1,neighboors,deviations,averages)\n",
    "mae1 = class_predict_k1.train_error()\n",
    "mae_1_test = class_predict_k1.test_error()\n",
    "delta0_limit5 = datetime.datetime.now()-t0\n",
    "print(\"Time to predict where limit >=3 K=1:\", delta0_limit5)"
   ]
  },
  {
   "cell_type": "code",
   "execution_count": 13,
   "metadata": {},
   "outputs": [
    {
     "data": {
      "text/plain": [
       "(0.35435567290960984, 0.4775710278014467)"
      ]
     },
     "execution_count": 13,
     "metadata": {},
     "output_type": "execute_result"
    }
   ],
   "source": [
    "mae1, mae_1_test"
   ]
  },
  {
   "cell_type": "code",
   "execution_count": 14,
   "metadata": {},
   "outputs": [
    {
     "name": "stdout",
     "output_type": "stream",
     "text": [
      "Time to predict where limit >=3 K=3: 0:00:00.129051\n"
     ]
    }
   ],
   "source": [
    "#LIMIT >= 3, K = 3\n",
    "t0 = datetime.datetime.now()\n",
    "class_predict_k3= predict_error(3,neighboors,deviations,averages)\n",
    "mae3 = class_predict_k3.train_error()\n",
    "mae_3_test = class_predict_k3.test_error()\n",
    "delta0_limit3 = datetime.datetime.now()-t0\n",
    "print(\"Time to predict where limit >=3 K=3:\", delta0_limit3)"
   ]
  },
  {
   "cell_type": "code",
   "execution_count": 15,
   "metadata": {},
   "outputs": [
    {
     "data": {
      "text/plain": [
       "(0.34884393029796545, 0.4740484172677246)"
      ]
     },
     "execution_count": 15,
     "metadata": {},
     "output_type": "execute_result"
    }
   ],
   "source": [
    "mae3, mae_3_test "
   ]
  },
  {
   "cell_type": "code",
   "execution_count": 16,
   "metadata": {},
   "outputs": [
    {
     "name": "stdout",
     "output_type": "stream",
     "text": [
      "Time to predict where limit>=3 K=5: 0:00:00.179958\n"
     ]
    }
   ],
   "source": [
    "#LIMIT >= 3, K = 5\n",
    "t0 = datetime.datetime.now()\n",
    "class_predict_k5= predict_error(5, neighboors,deviations,averages)\n",
    "mae5 = class_predict_k5.train_error()\n",
    "mae_5_test = class_predict_k5.test_error()\n",
    "delta0_limit5 = datetime.datetime.now()-t0\n",
    "print(\"Time to predict where limit>=3 K=5:\", delta0_limit5)"
   ]
  },
  {
   "cell_type": "code",
   "execution_count": 17,
   "metadata": {},
   "outputs": [
    {
     "data": {
      "text/plain": [
       "(0.34934883996261396, 0.475500514185566)"
      ]
     },
     "execution_count": 17,
     "metadata": {},
     "output_type": "execute_result"
    }
   ],
   "source": [
    "mae5, mae_5_test"
   ]
  },
  {
   "cell_type": "code",
   "execution_count": 18,
   "metadata": {},
   "outputs": [
    {
     "name": "stdout",
     "output_type": "stream",
     "text": [
      "Time to predict where limit>=3 K=7: 0:00:00.181678\n"
     ]
    }
   ],
   "source": [
    "#LIMIT >=3, K = 7\n",
    "t0 = datetime.datetime.now()\n",
    "class_predict_k7= predict_error(7, neighboors,deviations,averages)\n",
    "mae7 = class_predict_k7.train_error()\n",
    "mae_7_test = class_predict_k7.test_error()\n",
    "delta0_limit7 = datetime.datetime.now()-t0\n",
    "print(\"Time to predict where limit>=3 K=7:\", delta0_limit7)"
   ]
  },
  {
   "cell_type": "code",
   "execution_count": 19,
   "metadata": {},
   "outputs": [
    {
     "data": {
      "text/plain": [
       "(0.3498437978009446, 0.4749503104091296)"
      ]
     },
     "execution_count": 19,
     "metadata": {},
     "output_type": "execute_result"
    }
   ],
   "source": [
    "mae7, mae_7_test"
   ]
  },
  {
   "cell_type": "code",
   "execution_count": 20,
   "metadata": {},
   "outputs": [
    {
     "name": "stdout",
     "output_type": "stream",
     "text": [
      "Time to predict where limit >=3 K=10: 0:00:00.196258\n"
     ]
    }
   ],
   "source": [
    "#LIMIT >=3, K = 10\n",
    "t0 = datetime.datetime.now()\n",
    "class_predict_k10= predict_error(10, neighboors,deviations,averages)\n",
    "mae10 = class_predict_k10.train_error()\n",
    "mae_10_test = class_predict_k10.test_error()\n",
    "delta0_limit10 = datetime.datetime.now()-t0\n",
    "print(\"Time to predict where limit >=3 K=10:\", delta0_limit10)"
   ]
  },
  {
   "cell_type": "code",
   "execution_count": 21,
   "metadata": {},
   "outputs": [
    {
     "data": {
      "text/plain": [
       "(0.35049277600685325, 0.4753220453968611)"
      ]
     },
     "execution_count": 21,
     "metadata": {},
     "output_type": "execute_result"
    }
   ],
   "source": [
    "mae10 , mae_10_test"
   ]
  },
  {
   "cell_type": "code",
   "execution_count": 22,
   "metadata": {},
   "outputs": [
    {
     "name": "stdout",
     "output_type": "stream",
     "text": [
      "Time to predict where limit >=3 K=15: 0:00:00.188629\n"
     ]
    }
   ],
   "source": [
    "t0 = datetime.datetime.now()\n",
    "class_predict_k15= predict_error(15, neighboors,deviations,averages)\n",
    "mae15 = class_predict_k15.train_error()\n",
    "mae_15_test = class_predict_k15.test_error()\n",
    "delta0_limit15 = datetime.datetime.now()-t0\n",
    "print(\"Time to predict where limit >=3 K=15:\", delta0_limit15)"
   ]
  },
  {
   "cell_type": "code",
   "execution_count": 23,
   "metadata": {},
   "outputs": [
    {
     "data": {
      "text/plain": [
       "(0.3511580917007956, 0.4755336047371662)"
      ]
     },
     "execution_count": 23,
     "metadata": {},
     "output_type": "execute_result"
    }
   ],
   "source": [
    "mae15 , mae_15_test"
   ]
  },
  {
   "cell_type": "code",
   "execution_count": 24,
   "metadata": {},
   "outputs": [
    {
     "name": "stdout",
     "output_type": "stream",
     "text": [
      "Time to predict where limit >=3 K=20: 0:00:00.155575\n"
     ]
    }
   ],
   "source": [
    "t0 = datetime.datetime.now()\n",
    "class_predict_k20= predict_error(20, neighboors,deviations,averages)\n",
    "mae20 = class_predict_k20.train_error()\n",
    "mae_20_test = class_predict_k20.test_error()\n",
    "delta0_limit20 = datetime.datetime.now()-t0\n",
    "print(\"Time to predict where limit >=3 K=20:\", delta0_limit20)"
   ]
  },
  {
   "cell_type": "code",
   "execution_count": 25,
   "metadata": {},
   "outputs": [
    {
     "data": {
      "text/plain": [
       "(0.3514616496941586, 0.47560149087222214)"
      ]
     },
     "execution_count": 25,
     "metadata": {},
     "output_type": "execute_result"
    }
   ],
   "source": [
    "mae20 , mae_20_test"
   ]
  },
  {
   "cell_type": "code",
   "execution_count": null,
   "metadata": {},
   "outputs": [],
   "source": []
  },
  {
   "cell_type": "code",
   "execution_count": 26,
   "metadata": {},
   "outputs": [
    {
     "name": "stdout",
     "output_type": "stream",
     "text": [
      "Time to predict where limit =1 K=1: 0:00:00.124637\n"
     ]
    }
   ],
   "source": [
    "#LIMIT = 1, K = 1\n",
    "t0 = datetime.datetime.now()\n",
    "class_predict_k1_T= predict_error(1,neighboors1,deviations1,averages1)\n",
    "mae1_T = class_predict_k1_T.train_error()\n",
    "mae_1_test_T = class_predict_k1_T.test_error()\n",
    "delta1_limit1 = datetime.datetime.now()-t0\n",
    "print(\"Time to predict where limit =1 K=1:\", delta1_limit1)"
   ]
  },
  {
   "cell_type": "code",
   "execution_count": 27,
   "metadata": {},
   "outputs": [
    {
     "data": {
      "text/plain": [
       "(0.3121062853387701, 0.4851257534831264)"
      ]
     },
     "execution_count": 27,
     "metadata": {},
     "output_type": "execute_result"
    }
   ],
   "source": [
    "mae1_T, mae_1_test_T"
   ]
  },
  {
   "cell_type": "code",
   "execution_count": 28,
   "metadata": {},
   "outputs": [
    {
     "name": "stdout",
     "output_type": "stream",
     "text": [
      "Time to predict where limit =1 K=3: 0:00:00.158746\n"
     ]
    }
   ],
   "source": [
    "#LIMIT = 1, K = 3\n",
    "t0 = datetime.datetime.now()\n",
    "class_predict_k3_T= predict_error(3,neighboors1,deviations1,averages1)\n",
    "mae3_T = class_predict_k3_T.train_error()\n",
    "mae_3_test_T = class_predict_k3_T.test_error()\n",
    "delta1_limit3 = datetime.datetime.now()-t0\n",
    "print(\"Time to predict where limit =1 K=3:\", delta1_limit3)"
   ]
  },
  {
   "cell_type": "code",
   "execution_count": 29,
   "metadata": {},
   "outputs": [
    {
     "data": {
      "text/plain": [
       "(0.300924096257629, 0.4833564604959036)"
      ]
     },
     "execution_count": 29,
     "metadata": {},
     "output_type": "execute_result"
    }
   ],
   "source": [
    "mae3_T, mae_3_test_T"
   ]
  },
  {
   "cell_type": "code",
   "execution_count": 30,
   "metadata": {},
   "outputs": [
    {
     "name": "stdout",
     "output_type": "stream",
     "text": [
      "Time to predict where limit =1 K=5: 0:00:00.207030\n"
     ]
    }
   ],
   "source": [
    "#LIMIT = 1, K = 5\n",
    "t0 = datetime.datetime.now()\n",
    "class_predict_k5_T= predict_error(5,neighboors1,deviations1,averages1)\n",
    "mae5_T = class_predict_k5_T.train_error()\n",
    "mae_5_test_T = class_predict_k5_T.test_error()\n",
    "delta1_limit5 = datetime.datetime.now()-t0\n",
    "print(\"Time to predict where limit =1 K=5:\", delta1_limit5)"
   ]
  },
  {
   "cell_type": "code",
   "execution_count": 31,
   "metadata": {},
   "outputs": [
    {
     "data": {
      "text/plain": [
       "(0.3015704036107045, 0.484107351446644)"
      ]
     },
     "execution_count": 31,
     "metadata": {},
     "output_type": "execute_result"
    }
   ],
   "source": [
    "mae5_T, mae_5_test_T"
   ]
  },
  {
   "cell_type": "code",
   "execution_count": 32,
   "metadata": {},
   "outputs": [
    {
     "name": "stdout",
     "output_type": "stream",
     "text": [
      "Time to predict where limit =1 K=7: 0:00:00.247908\n"
     ]
    }
   ],
   "source": [
    "#LIMIT = 1, K = 5\n",
    "t0 = datetime.datetime.now()\n",
    "class_predict_k7_T= predict_error(7,neighboors1,deviations1,averages1)\n",
    "mae7_T = class_predict_k7_T.train_error()\n",
    "mae_7_test_T = class_predict_k7_T.test_error()\n",
    "delta1_limit7 = datetime.datetime.now()-t0\n",
    "print(\"Time to predict where limit =1 K=7:\", delta1_limit7)"
   ]
  },
  {
   "cell_type": "code",
   "execution_count": 33,
   "metadata": {},
   "outputs": [
    {
     "data": {
      "text/plain": [
       "(0.3025760809463694, 0.4846082370856429)"
      ]
     },
     "execution_count": 33,
     "metadata": {},
     "output_type": "execute_result"
    }
   ],
   "source": [
    "mae7_T, mae_7_test_T"
   ]
  },
  {
   "cell_type": "code",
   "execution_count": 34,
   "metadata": {},
   "outputs": [
    {
     "name": "stdout",
     "output_type": "stream",
     "text": [
      "Time to predict where limit =1 K=10: 0:00:00.302133\n"
     ]
    }
   ],
   "source": [
    "#LIMIT = 1, K = 10\n",
    "t0 = datetime.datetime.now()\n",
    "class_predict_k10_T= predict_error(10,neighboors1,deviations1,averages1)\n",
    "mae10_T = class_predict_k10_T.train_error()\n",
    "mae_10_test_T = class_predict_k10_T.test_error()\n",
    "delta1_limit10 = datetime.datetime.now()-t0\n",
    "print(\"Time to predict where limit =1 K=10:\", delta1_limit10)"
   ]
  },
  {
   "cell_type": "code",
   "execution_count": 35,
   "metadata": {},
   "outputs": [
    {
     "data": {
      "text/plain": [
       "(0.3037440061696041, 0.484837902302067)"
      ]
     },
     "execution_count": 35,
     "metadata": {},
     "output_type": "execute_result"
    }
   ],
   "source": [
    "mae10_T, mae_10_test_T"
   ]
  },
  {
   "cell_type": "code",
   "execution_count": 36,
   "metadata": {},
   "outputs": [
    {
     "name": "stdout",
     "output_type": "stream",
     "text": [
      "Time to predict where limit =1 K=15: 0:00:00.983903\n"
     ]
    }
   ],
   "source": [
    "#LIMIT = 1, K = 15\n",
    "t0 = datetime.datetime.now()\n",
    "class_predict_k15_T= predict_error(15, neighboors1,deviations1,averages1)\n",
    "mae15_T = class_predict_k15_T.train_error()\n",
    "mae_15_test_T = class_predict_k15_T.test_error()\n",
    "delta1_limit15 = datetime.datetime.now()-t0\n",
    "print(\"Time to predict where limit =1 K=15:\", delta1_limit15)"
   ]
  },
  {
   "cell_type": "code",
   "execution_count": 37,
   "metadata": {},
   "outputs": [
    {
     "data": {
      "text/plain": [
       "(0.30572285114095304, 0.4844665580446276)"
      ]
     },
     "execution_count": 37,
     "metadata": {},
     "output_type": "execute_result"
    }
   ],
   "source": [
    "mae15_T, mae_15_test_T"
   ]
  },
  {
   "cell_type": "code",
   "execution_count": 38,
   "metadata": {},
   "outputs": [
    {
     "name": "stdout",
     "output_type": "stream",
     "text": [
      "Time to predict where limit =1 K=20: 0:00:00.577546\n"
     ]
    }
   ],
   "source": [
    "#LIMIT = 1, K = 20\n",
    "t0 = datetime.datetime.now()\n",
    "class_predict_k20_T= predict_error(20, neighboors1,deviations1,averages1)\n",
    "mae20_T = class_predict_k20_T.train_error()\n",
    "mae_20_test_T = class_predict_k20_T.test_error()\n",
    "delta1_limit20 = datetime.datetime.now()-t0\n",
    "print(\"Time to predict where limit =1 K=20:\", delta1_limit20)"
   ]
  },
  {
   "cell_type": "code",
   "execution_count": 39,
   "metadata": {},
   "outputs": [
    {
     "data": {
      "text/plain": [
       "(0.30724220748932707, 0.48433565783897253)"
      ]
     },
     "execution_count": 39,
     "metadata": {},
     "output_type": "execute_result"
    }
   ],
   "source": [
    "mae20_T, mae_20_test_T"
   ]
  },
  {
   "cell_type": "code",
   "execution_count": 40,
   "metadata": {},
   "outputs": [
    {
     "data": {
      "image/png": "[encoded data removed]",
      "text/plain": [
       "<Figure size 432x288 with 1 Axes>"
      ]
     },
     "metadata": {
      "needs_background": "light"
     },
     "output_type": "display_data"
    }
   ],
   "source": [
    "lw =2\n",
    "import matplotlib.pyplot as plt\n",
    "%matplotlib inline\n",
    "K = [1,3,5,7,10,15,20]\n",
    "mae_limit5 = [mae1, mae3, mae5, mae7, mae10, mae15, mae20]\n",
    "mae_test_limit5 = [mae_1_test,mae_3_test, mae_5_test, mae_7_test, mae_10_test,mae_15_test,mae_20_test]\n",
    "mae_limit1 = [mae1_T, mae3_T, mae5_T, mae7_T, mae10_T, mae15_T, mae20_T]\n",
    "mae_test_limit1 = [mae_1_test_T,mae_3_test_T, mae_5_test_T, mae_7_test_T, mae_10_test_T,mae_15_test_T,mae_20_test_T]\n",
    "plt.plot(K, mae_limit5, color = 'b',lw=lw, label = \"MAE train no.common users >= 3\")\n",
    "plt.plot(K, mae_test_limit5, color = 'r',lw=lw, label = \"MAE_test no.common users >= 3\")\n",
    "plt.plot(K, mae_limit1, color = 'green',lw=lw, label = \"MAE train no.common users >= 1\")\n",
    "plt.plot(K, mae_test_limit1, color = 'orange',lw=lw, label = \"MAE_test no.common users >= 1\")\n",
    "plt.xlabel(\"K neighboors\")\n",
    "plt.ylabel(\"mae error\")\n",
    "plt.title('Item-based MAE error across different K values')\n",
    "plt.legend(loc='upper center', bbox_to_anchor=(0.5, -0.2))\n",
    "plt.show()"
   ]
  },
  {
   "cell_type": "code",
   "execution_count": 41,
   "metadata": {},
   "outputs": [
    {
     "data": {
      "image/png": "[encoded data removed]",
      "text/plain": [
       "<Figure size 432x288 with 1 Axes>"
      ]
     },
     "metadata": {
      "needs_background": "light"
     },
     "output_type": "display_data"
    }
   ],
   "source": [
    "import matplotlib.pyplot as plt\n",
    "%matplotlib inline\n",
    "K = [1,3,5,7,10,15,20]\n",
    "mae_test_limit3 = [mae_1_test,mae_3_test, mae_5_test, mae_7_test, mae_10_test,mae_15_test,mae_20_test]\n",
    "mae_test_limit1 = [mae_1_test_T,mae_3_test_T, mae_5_test_T, mae_7_test_T, mae_10_test_T,mae_15_test_T,mae_20_test_T]\n",
    "plt.plot(K, mae_test_limit3, color = 'r', label = \"MAE_test no.common users >= 3\")\n",
    "plt.plot(K, mae_test_limit1, color = 'orange', label='MAE_test no.common users >= 1')\n",
    "plt.xlabel(\"K neighboors\")\n",
    "plt.ylabel(\"mae error\")\n",
    "plt.title('Item-based MAE error across different K values on the test data set')\n",
    "plt.ylim(0.47,0.49)\n",
    "plt.legend(loc='upper center', bbox_to_anchor=(0.5, -0.2))\n",
    "plt.show()"
   ]
  },
  {
   "cell_type": "code",
   "execution_count": 42,
   "metadata": {},
   "outputs": [],
   "source": [
    "def commonS(k,neighboors):\n",
    "    x = {}\n",
    "    for i in song_users_test.keys():\n",
    "        cj = 0\n",
    "        for w,j in neighboors[i][0][0:k]:\n",
    "            cj+=1\n",
    "        x[i] = cj\n",
    "    return x\n"
   ]
  },
  {
   "cell_type": "code",
   "execution_count": 43,
   "metadata": {},
   "outputs": [
    {
     "data": {
      "text/plain": [
       "Text(0.5, 1.0, 'Item-based CF: No of neighboors across users:common users >=1')"
      ]
     },
     "execution_count": 43,
     "metadata": {},
     "output_type": "execute_result"
    },
    {
     "data": {
      "image/png": "[encoded data removed]",
      "text/plain": [
       "<Figure size 432x288 with 1 Axes>"
      ]
     },
     "metadata": {
      "needs_background": "light"
     },
     "output_type": "display_data"
    }
   ],
   "source": [
    "x = commonS(30,neighboors1)\n",
    "plt.hist(x.values())\n",
    "plt.xlabel(\"K neighboors\")\n",
    "plt.ylabel(\"no of unique users\")\n",
    "plt.title('Item-based CF: No of neighboors across users:common users >=1')"
   ]
  },
  {
   "cell_type": "code",
   "execution_count": 44,
   "metadata": {},
   "outputs": [
    {
     "data": {
      "text/plain": [
       "Text(0.5, 1.0, 'Item-based CF: No of neighboors across users:common users >=3')"
      ]
     },
     "execution_count": 44,
     "metadata": {},
     "output_type": "execute_result"
    },
    {
     "data": {
      "image/png": "[encoded data removed]",
      "text/plain": [
       "<Figure size 432x288 with 1 Axes>"
      ]
     },
     "metadata": {
      "needs_background": "light"
     },
     "output_type": "display_data"
    }
   ],
   "source": [
    "x = commonS(30,neighboors)\n",
    "plt.hist(x.values())\n",
    "plt.hist(x.values())\n",
    "plt.xlabel(\"K neighboors\")\n",
    "plt.ylabel(\"no of unique users\")\n",
    "plt.title('Item-based CF: No of neighboors across users:common users >=3')"
   ]
  },
  {
   "cell_type": "code",
   "execution_count": null,
   "metadata": {},
   "outputs": [],
   "source": []
  }
 ],
 "metadata": {
  "kernelspec": {
   "display_name": "Python 3",
   "language": "python",
   "name": "python3"
  },
  "language_info": {
   "codemirror_mode": {
    "name": "ipython",
    "version": 3
   },
   "file_extension": ".py",
   "mimetype": "text/x-python",
   "name": "python",
   "nbconvert_exporter": "python",
   "pygments_lexer": "ipython3",
   "version": "3.6.7"
  }
 },
 "nbformat": 4,
 "nbformat_minor": 2
}
